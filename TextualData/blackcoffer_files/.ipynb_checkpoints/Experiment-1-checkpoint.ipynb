{
 "cells": [
  {
   "cell_type": "code",
   "execution_count": null,
   "metadata": {},
   "outputs": [],
   "source": [
    "(\\\\x\\d\\d)|(\\\\x\\w\\d)|(\\\\x\\d\\ds)"
   ]
  },
  {
   "cell_type": "markdown",
   "metadata": {},
   "source": [
    "# I have been,\n",
    "### experimenting with how to get optimized text results from the text file, and I am trying to use beautiful soup"
   ]
  },
  {
   "cell_type": "code",
   "execution_count": 1,
   "metadata": {},
   "outputs": [],
   "source": [
    "import pandas as pd\n",
    "import re\n",
    "from collections import defaultdict\n",
    "import urllib.request\n",
    "import numpy as np\n",
    "import nltk\n",
    "from nltk.tokenize import word_tokenize\n",
    "#nltk.download('punkt')\n",
    "import os\n",
    "from nltk.tokenize import sent_tokenize"
   ]
  },
  {
   "cell_type": "code",
   "execution_count": 2,
   "metadata": {},
   "outputs": [],
   "source": [
    "financial_report_ini_data = pd.read_excel('cik_list.xlsx') #original data"
   ]
  },
  {
   "cell_type": "code",
   "execution_count": 3,
   "metadata": {},
   "outputs": [],
   "source": [
    "fin_rep_data = financial_report_ini_data.copy() #copying the data"
   ]
  },
  {
   "cell_type": "code",
   "execution_count": 4,
   "metadata": {},
   "outputs": [],
   "source": [
    "fin_rep_data['SECFNAME'] = 'https://www.sec.gov/Archives/' + fin_rep_data['SECFNAME'] #modifying the column F"
   ]
  },
  {
   "cell_type": "code",
   "execution_count": 5,
   "metadata": {},
   "outputs": [
    {
     "data": {
      "text/html": [
       "<div>\n",
       "<style scoped>\n",
       "    .dataframe tbody tr th:only-of-type {\n",
       "        vertical-align: middle;\n",
       "    }\n",
       "\n",
       "    .dataframe tbody tr th {\n",
       "        vertical-align: top;\n",
       "    }\n",
       "\n",
       "    .dataframe thead th {\n",
       "        text-align: right;\n",
       "    }\n",
       "</style>\n",
       "<table border=\"1\" class=\"dataframe\">\n",
       "  <thead>\n",
       "    <tr style=\"text-align: right;\">\n",
       "      <th></th>\n",
       "      <th>CIK</th>\n",
       "      <th>CONAME</th>\n",
       "      <th>FYRMO</th>\n",
       "      <th>FDATE</th>\n",
       "      <th>FORM</th>\n",
       "      <th>SECFNAME</th>\n",
       "    </tr>\n",
       "  </thead>\n",
       "  <tbody>\n",
       "    <tr>\n",
       "      <th>0</th>\n",
       "      <td>3662</td>\n",
       "      <td>SUNBEAM CORP/FL/</td>\n",
       "      <td>199803</td>\n",
       "      <td>1998-03-06</td>\n",
       "      <td>10-K405</td>\n",
       "      <td>https://www.sec.gov/Archives/edgar/data/3662/0...</td>\n",
       "    </tr>\n",
       "    <tr>\n",
       "      <th>1</th>\n",
       "      <td>3662</td>\n",
       "      <td>SUNBEAM CORP/FL/</td>\n",
       "      <td>199805</td>\n",
       "      <td>1998-05-15</td>\n",
       "      <td>10-Q</td>\n",
       "      <td>https://www.sec.gov/Archives/edgar/data/3662/0...</td>\n",
       "    </tr>\n",
       "    <tr>\n",
       "      <th>2</th>\n",
       "      <td>3662</td>\n",
       "      <td>SUNBEAM CORP/FL/</td>\n",
       "      <td>199808</td>\n",
       "      <td>1998-08-13</td>\n",
       "      <td>NT 10-Q</td>\n",
       "      <td>https://www.sec.gov/Archives/edgar/data/3662/0...</td>\n",
       "    </tr>\n",
       "    <tr>\n",
       "      <th>3</th>\n",
       "      <td>3662</td>\n",
       "      <td>SUNBEAM CORP/FL/</td>\n",
       "      <td>199811</td>\n",
       "      <td>1998-11-12</td>\n",
       "      <td>10-K/A</td>\n",
       "      <td>https://www.sec.gov/Archives/edgar/data/3662/0...</td>\n",
       "    </tr>\n",
       "    <tr>\n",
       "      <th>4</th>\n",
       "      <td>3662</td>\n",
       "      <td>SUNBEAM CORP/FL/</td>\n",
       "      <td>199811</td>\n",
       "      <td>1998-11-16</td>\n",
       "      <td>NT 10-Q</td>\n",
       "      <td>https://www.sec.gov/Archives/edgar/data/3662/0...</td>\n",
       "    </tr>\n",
       "    <tr>\n",
       "      <th>...</th>\n",
       "      <td>...</td>\n",
       "      <td>...</td>\n",
       "      <td>...</td>\n",
       "      <td>...</td>\n",
       "      <td>...</td>\n",
       "      <td>...</td>\n",
       "    </tr>\n",
       "    <tr>\n",
       "      <th>147</th>\n",
       "      <td>12239</td>\n",
       "      <td>SPHERIX INC</td>\n",
       "      <td>200704</td>\n",
       "      <td>2007-04-02</td>\n",
       "      <td>10-K</td>\n",
       "      <td>https://www.sec.gov/Archives/edgar/data/12239/...</td>\n",
       "    </tr>\n",
       "    <tr>\n",
       "      <th>148</th>\n",
       "      <td>12239</td>\n",
       "      <td>SPHERIX INC</td>\n",
       "      <td>200705</td>\n",
       "      <td>2007-05-16</td>\n",
       "      <td>NT 10-Q</td>\n",
       "      <td>https://www.sec.gov/Archives/edgar/data/12239/...</td>\n",
       "    </tr>\n",
       "    <tr>\n",
       "      <th>149</th>\n",
       "      <td>12239</td>\n",
       "      <td>SPHERIX INC</td>\n",
       "      <td>200705</td>\n",
       "      <td>2007-05-18</td>\n",
       "      <td>10-Q</td>\n",
       "      <td>https://www.sec.gov/Archives/edgar/data/12239/...</td>\n",
       "    </tr>\n",
       "    <tr>\n",
       "      <th>150</th>\n",
       "      <td>12239</td>\n",
       "      <td>SPHERIX INC</td>\n",
       "      <td>200705</td>\n",
       "      <td>2007-05-23</td>\n",
       "      <td>10-K/A</td>\n",
       "      <td>https://www.sec.gov/Archives/edgar/data/12239/...</td>\n",
       "    </tr>\n",
       "    <tr>\n",
       "      <th>151</th>\n",
       "      <td>12239</td>\n",
       "      <td>SPHERIX INC</td>\n",
       "      <td>200708</td>\n",
       "      <td>2007-08-14</td>\n",
       "      <td>10-Q</td>\n",
       "      <td>https://www.sec.gov/Archives/edgar/data/12239/...</td>\n",
       "    </tr>\n",
       "  </tbody>\n",
       "</table>\n",
       "<p>152 rows × 6 columns</p>\n",
       "</div>"
      ],
      "text/plain": [
       "       CIK            CONAME   FYRMO      FDATE     FORM  \\\n",
       "0     3662  SUNBEAM CORP/FL/  199803 1998-03-06  10-K405   \n",
       "1     3662  SUNBEAM CORP/FL/  199805 1998-05-15     10-Q   \n",
       "2     3662  SUNBEAM CORP/FL/  199808 1998-08-13  NT 10-Q   \n",
       "3     3662  SUNBEAM CORP/FL/  199811 1998-11-12   10-K/A   \n",
       "4     3662  SUNBEAM CORP/FL/  199811 1998-11-16  NT 10-Q   \n",
       "..     ...               ...     ...        ...      ...   \n",
       "147  12239       SPHERIX INC  200704 2007-04-02     10-K   \n",
       "148  12239       SPHERIX INC  200705 2007-05-16  NT 10-Q   \n",
       "149  12239       SPHERIX INC  200705 2007-05-18     10-Q   \n",
       "150  12239       SPHERIX INC  200705 2007-05-23   10-K/A   \n",
       "151  12239       SPHERIX INC  200708 2007-08-14     10-Q   \n",
       "\n",
       "                                              SECFNAME  \n",
       "0    https://www.sec.gov/Archives/edgar/data/3662/0...  \n",
       "1    https://www.sec.gov/Archives/edgar/data/3662/0...  \n",
       "2    https://www.sec.gov/Archives/edgar/data/3662/0...  \n",
       "3    https://www.sec.gov/Archives/edgar/data/3662/0...  \n",
       "4    https://www.sec.gov/Archives/edgar/data/3662/0...  \n",
       "..                                                 ...  \n",
       "147  https://www.sec.gov/Archives/edgar/data/12239/...  \n",
       "148  https://www.sec.gov/Archives/edgar/data/12239/...  \n",
       "149  https://www.sec.gov/Archives/edgar/data/12239/...  \n",
       "150  https://www.sec.gov/Archives/edgar/data/12239/...  \n",
       "151  https://www.sec.gov/Archives/edgar/data/12239/...  \n",
       "\n",
       "[152 rows x 6 columns]"
      ]
     },
     "execution_count": 5,
     "metadata": {},
     "output_type": "execute_result"
    }
   ],
   "source": [
    "fin_rep_data"
   ]
  },
  {
   "cell_type": "code",
   "execution_count": 6,
   "metadata": {},
   "outputs": [],
   "source": [
    "url = defaultdict(str)"
   ]
  },
  {
   "cell_type": "code",
   "execution_count": 7,
   "metadata": {},
   "outputs": [],
   "source": [
    "for i in fin_rep_data.index:\n",
    "    \n",
    "    url[i] = fin_rep_data.loc[i, 'SECFNAME']"
   ]
  },
  {
   "cell_type": "code",
   "execution_count": 8,
   "metadata": {},
   "outputs": [
    {
     "data": {
      "text/plain": [
       "defaultdict(str,\n",
       "            {0: 'https://www.sec.gov/Archives/edgar/data/3662/0000950170-98-000413.txt',\n",
       "             1: 'https://www.sec.gov/Archives/edgar/data/3662/0000950170-98-001001.txt',\n",
       "             2: 'https://www.sec.gov/Archives/edgar/data/3662/0000950172-98-000783.txt',\n",
       "             3: 'https://www.sec.gov/Archives/edgar/data/3662/0000950170-98-002145.txt',\n",
       "             4: 'https://www.sec.gov/Archives/edgar/data/3662/0000950172-98-001203.txt',\n",
       "             5: 'https://www.sec.gov/Archives/edgar/data/3662/0000950170-98-002278.txt',\n",
       "             6: 'https://www.sec.gov/Archives/edgar/data/3662/0000950170-98-002401.txt',\n",
       "             7: 'https://www.sec.gov/Archives/edgar/data/3662/0000950170-98-002402.txt',\n",
       "             8: 'https://www.sec.gov/Archives/edgar/data/3662/0000950172-99-000362.txt',\n",
       "             9: 'https://www.sec.gov/Archives/edgar/data/3662/0000950170-99-000775.txt',\n",
       "             10: 'https://www.sec.gov/Archives/edgar/data/3662/0000950172-99-000584.txt',\n",
       "             11: 'https://www.sec.gov/Archives/edgar/data/3662/0000950170-99-001005.txt',\n",
       "             12: 'https://www.sec.gov/Archives/edgar/data/3662/0000950172-99-001074.txt',\n",
       "             13: 'https://www.sec.gov/Archives/edgar/data/3662/0000950170-99-001361.txt',\n",
       "             14: 'https://www.sec.gov/Archives/edgar/data/3662/0000889812-99-003241.txt',\n",
       "             15: 'https://www.sec.gov/Archives/edgar/data/3662/0000950170-99-001639.txt',\n",
       "             16: 'https://www.sec.gov/Archives/edgar/data/3662/0000950170-99-001640.txt',\n",
       "             17: 'https://www.sec.gov/Archives/edgar/data/3662/0000950172-99-001626.txt',\n",
       "             18: 'https://www.sec.gov/Archives/edgar/data/3662/0000950170-99-001856.txt',\n",
       "             19: 'https://www.sec.gov/Archives/edgar/data/3982/0000950129-06-002926.txt',\n",
       "             20: 'https://www.sec.gov/Archives/edgar/data/3982/0000950129-06-004690.txt',\n",
       "             21: 'https://www.sec.gov/Archives/edgar/data/3982/0000950129-06-005244.txt',\n",
       "             22: 'https://www.sec.gov/Archives/edgar/data/3982/0000950129-06-007243.txt',\n",
       "             23: 'https://www.sec.gov/Archives/edgar/data/3982/0000950129-06-007244.txt',\n",
       "             24: 'https://www.sec.gov/Archives/edgar/data/3982/0000950129-06-007871.txt',\n",
       "             25: 'https://www.sec.gov/Archives/edgar/data/3982/0000950129-06-009522.txt',\n",
       "             26: 'https://www.sec.gov/Archives/edgar/data/3982/0000950134-06-023819.txt',\n",
       "             27: 'https://www.sec.gov/Archives/edgar/data/3982/0000950129-07-001381.txt',\n",
       "             28: 'https://www.sec.gov/Archives/edgar/data/3982/0000950129-07-002432.txt',\n",
       "             29: 'https://www.sec.gov/Archives/edgar/data/3982/0000950129-07-003918.txt',\n",
       "             30: 'https://www.sec.gov/Archives/edgar/data/3982/0000950129-07-005361.txt',\n",
       "             31: 'https://www.sec.gov/Archives/edgar/data/3982/0000950129-08-001569.txt',\n",
       "             32: 'https://www.sec.gov/Archives/edgar/data/3982/0000950129-08-002507.txt',\n",
       "             33: 'https://www.sec.gov/Archives/edgar/data/4447/0000950123-03-012528.txt',\n",
       "             34: 'https://www.sec.gov/Archives/edgar/data/4447/0000950123-04-003250.txt',\n",
       "             35: 'https://www.sec.gov/Archives/edgar/data/4447/0000950123-04-003322.txt',\n",
       "             36: 'https://www.sec.gov/Archives/edgar/data/4447/0000950123-04-005950.txt',\n",
       "             37: 'https://www.sec.gov/Archives/edgar/data/4447/0000950123-04-009350.txt',\n",
       "             38: 'https://www.sec.gov/Archives/edgar/data/4447/0000950123-04-013054.txt',\n",
       "             39: 'https://www.sec.gov/Archives/edgar/data/4447/0000950123-05-003078.txt',\n",
       "             40: 'https://www.sec.gov/Archives/edgar/data/4447/0000950123-05-005767.txt',\n",
       "             41: 'https://www.sec.gov/Archives/edgar/data/4447/0000950123-05-009475.txt',\n",
       "             42: 'https://www.sec.gov/Archives/edgar/data/4447/0000950123-05-013153.txt',\n",
       "             43: 'https://www.sec.gov/Archives/edgar/data/4457/0000004457-99-000043.txt',\n",
       "             44: 'https://www.sec.gov/Archives/edgar/data/4457/0000004457-00-000018.txt',\n",
       "             45: 'https://www.sec.gov/Archives/edgar/data/4457/0000004457-00-000067.txt',\n",
       "             46: 'https://www.sec.gov/Archives/edgar/data/4457/0000004457-00-000080.txt',\n",
       "             47: 'https://www.sec.gov/Archives/edgar/data/4457/0000004457-00-000105.txt',\n",
       "             48: 'https://www.sec.gov/Archives/edgar/data/4457/0000004457-01-500024.txt',\n",
       "             49: 'https://www.sec.gov/Archives/edgar/data/4457/0000004457-01-500063.txt',\n",
       "             50: 'https://www.sec.gov/Archives/edgar/data/4457/0000004457-01-500060.txt',\n",
       "             51: 'https://www.sec.gov/Archives/edgar/data/4457/0000004457-01-500081.txt',\n",
       "             52: 'https://www.sec.gov/Archives/edgar/data/4457/0000004457-01-500083.txt',\n",
       "             53: 'https://www.sec.gov/Archives/edgar/data/4515/0000004515-08-000073.txt',\n",
       "             54: 'https://www.sec.gov/Archives/edgar/data/4515/0000004515-09-000008.txt',\n",
       "             55: 'https://www.sec.gov/Archives/edgar/data/4515/0000004515-09-000018.txt',\n",
       "             56: 'https://www.sec.gov/Archives/edgar/data/4515/0000004515-09-000029.txt',\n",
       "             57: 'https://www.sec.gov/Archives/edgar/data/4515/0000004515-09-000039.txt',\n",
       "             58: 'https://www.sec.gov/Archives/edgar/data/4515/0000004515-09-000041.txt',\n",
       "             59: 'https://www.sec.gov/Archives/edgar/data/4515/0000004515-10-000006.txt',\n",
       "             60: 'https://www.sec.gov/Archives/edgar/data/4515/0000004515-10-000016.txt',\n",
       "             61: 'https://www.sec.gov/Archives/edgar/data/4515/0000950123-10-066865.txt',\n",
       "             62: 'https://www.sec.gov/Archives/edgar/data/4515/0000950123-10-094615.txt',\n",
       "             63: 'https://www.sec.gov/Archives/edgar/data/4962/0001193125-14-167067.txt',\n",
       "             64: 'https://www.sec.gov/Archives/edgar/data/4962/0001193125-14-286961.txt',\n",
       "             65: 'https://www.sec.gov/Archives/edgar/data/5588/0000930661-96-001510.txt',\n",
       "             66: 'https://www.sec.gov/Archives/edgar/data/5588/0000950134-97-002428.txt',\n",
       "             67: 'https://www.sec.gov/Archives/edgar/data/5588/0000950134-97-003934.txt',\n",
       "             68: 'https://www.sec.gov/Archives/edgar/data/5588/0000950134-97-006223.txt',\n",
       "             69: 'https://www.sec.gov/Archives/edgar/data/5588/0000950134-97-008577.txt',\n",
       "             70: 'https://www.sec.gov/Archives/edgar/data/5588/0000950134-98-002477.txt',\n",
       "             71: 'https://www.sec.gov/Archives/edgar/data/5588/0000950134-98-004241.txt',\n",
       "             72: 'https://www.sec.gov/Archives/edgar/data/5588/0000950134-98-006988.txt',\n",
       "             73: 'https://www.sec.gov/Archives/edgar/data/5588/0000005588-98-000008.txt',\n",
       "             74: 'https://www.sec.gov/Archives/edgar/data/5588/0000005588-98-000010.txt',\n",
       "             75: 'https://www.sec.gov/Archives/edgar/data/5907/0000005907-99-000027.txt',\n",
       "             76: 'https://www.sec.gov/Archives/edgar/data/5907/0000005907-99-000037.txt',\n",
       "             77: 'https://www.sec.gov/Archives/edgar/data/5907/0000005907-00-000014.txt',\n",
       "             78: 'https://www.sec.gov/Archives/edgar/data/5907/0000005907-00-000025.txt',\n",
       "             79: 'https://www.sec.gov/Archives/edgar/data/5907/0000005907-00-000031.txt',\n",
       "             80: 'https://www.sec.gov/Archives/edgar/data/5907/0000005907-00-000038.txt',\n",
       "             81: 'https://www.sec.gov/Archives/edgar/data/5907/0000005907-01-000002.txt',\n",
       "             82: 'https://www.sec.gov/Archives/edgar/data/5907/0000005907-01-000012.txt',\n",
       "             83: 'https://www.sec.gov/Archives/edgar/data/5907/0000005907-01-000015.txt',\n",
       "             84: 'https://www.sec.gov/Archives/edgar/data/5907/0000950123-01-502538.txt',\n",
       "             85: 'https://www.sec.gov/Archives/edgar/data/5907/0000950123-01-504075.txt',\n",
       "             86: 'https://www.sec.gov/Archives/edgar/data/5907/0000950123-01-505366.txt',\n",
       "             87: 'https://www.sec.gov/Archives/edgar/data/5907/0000950123-01-505598.txt',\n",
       "             88: 'https://www.sec.gov/Archives/edgar/data/6071/0000006071-98-000023.txt',\n",
       "             89: 'https://www.sec.gov/Archives/edgar/data/6071/0000006071-98-000026.txt',\n",
       "             90: 'https://www.sec.gov/Archives/edgar/data/6071/0000889812-99-001116.txt',\n",
       "             91: 'https://www.sec.gov/Archives/edgar/data/6071/0000006071-99-000013.txt',\n",
       "             92: 'https://www.sec.gov/Archives/edgar/data/6071/0000006071-99-000015.txt',\n",
       "             93: 'https://www.sec.gov/Archives/edgar/data/6071/0000006071-99-000017.txt',\n",
       "             94: 'https://www.sec.gov/Archives/edgar/data/6071/0000006071-00-000002.txt',\n",
       "             95: 'https://www.sec.gov/Archives/edgar/data/6071/0000006071-00-000011.txt',\n",
       "             96: 'https://www.sec.gov/Archives/edgar/data/6201/0000006201-99-000023.txt',\n",
       "             97: 'https://www.sec.gov/Archives/edgar/data/6201/0000006201-99-000028.txt',\n",
       "             98: 'https://www.sec.gov/Archives/edgar/data/6201/0000950134-00-002454.txt',\n",
       "             99: 'https://www.sec.gov/Archives/edgar/data/6201/0000006201-00-000009.txt',\n",
       "             100: 'https://www.sec.gov/Archives/edgar/data/6201/0000950134-00-006067.txt',\n",
       "             101: 'https://www.sec.gov/Archives/edgar/data/6201/0000006201-00-000017.txt',\n",
       "             102: 'https://www.sec.gov/Archives/edgar/data/6201/0000950134-01-002483.txt',\n",
       "             103: 'https://www.sec.gov/Archives/edgar/data/6201/0000950134-01-500665.txt',\n",
       "             104: 'https://www.sec.gov/Archives/edgar/data/6201/0000006201-01-500032.txt',\n",
       "             105: 'https://www.sec.gov/Archives/edgar/data/6201/0000006201-01-500047.txt',\n",
       "             106: 'https://www.sec.gov/Archives/edgar/data/6201/0000950134-02-001661.txt',\n",
       "             107: 'https://www.sec.gov/Archives/edgar/data/6201/0000006201-02-000015.txt',\n",
       "             108: 'https://www.sec.gov/Archives/edgar/data/6201/0000006201-02-000035.txt',\n",
       "             109: 'https://www.sec.gov/Archives/edgar/data/6201/0000006201-02-000052.txt',\n",
       "             110: 'https://www.sec.gov/Archives/edgar/data/6201/0000950134-02-012680.txt',\n",
       "             111: 'https://www.sec.gov/Archives/edgar/data/6201/0000950134-02-012682.txt',\n",
       "             112: 'https://www.sec.gov/Archives/edgar/data/6201/0000006201-03-000012.txt',\n",
       "             113: 'https://www.sec.gov/Archives/edgar/data/6201/0001047469-03-013301.txt',\n",
       "             114: 'https://www.sec.gov/Archives/edgar/data/6201/0000006201-03-000030.txt',\n",
       "             115: 'https://www.sec.gov/Archives/edgar/data/6201/0000006201-03-000045.txt',\n",
       "             116: 'https://www.sec.gov/Archives/edgar/data/6201/0000006201-08-000060.txt',\n",
       "             117: 'https://www.sec.gov/Archives/edgar/data/6201/0000006201-09-000009.txt',\n",
       "             118: 'https://www.sec.gov/Archives/edgar/data/6201/0000006201-09-000016.txt',\n",
       "             119: 'https://www.sec.gov/Archives/edgar/data/6201/0000006201-09-000029.txt',\n",
       "             120: 'https://www.sec.gov/Archives/edgar/data/6201/0000006201-09-000038.txt',\n",
       "             121: 'https://www.sec.gov/Archives/edgar/data/6201/0000006201-09-000040.txt',\n",
       "             122: 'https://www.sec.gov/Archives/edgar/data/6201/0000006201-10-000006.txt',\n",
       "             123: 'https://www.sec.gov/Archives/edgar/data/6201/0000006201-10-000013.txt',\n",
       "             124: 'https://www.sec.gov/Archives/edgar/data/6201/0000950123-10-066894.txt',\n",
       "             125: 'https://www.sec.gov/Archives/edgar/data/6201/0000950123-10-094605.txt',\n",
       "             126: 'https://www.sec.gov/Archives/edgar/data/6260/0000006260-94-000014.txt',\n",
       "             127: 'https://www.sec.gov/Archives/edgar/data/6260/0000006260-94-000016.txt',\n",
       "             128: 'https://www.sec.gov/Archives/edgar/data/6260/0000006260-97-000011.txt',\n",
       "             129: 'https://www.sec.gov/Archives/edgar/data/6260/0000006260-98-000001.txt',\n",
       "             130: 'https://www.sec.gov/Archives/edgar/data/6260/0000006260-98-000003.txt',\n",
       "             131: 'https://www.sec.gov/Archives/edgar/data/6260/0000914121-98-000672.txt',\n",
       "             132: 'https://www.sec.gov/Archives/edgar/data/6260/0001047469-98-045227.txt',\n",
       "             133: 'https://www.sec.gov/Archives/edgar/data/6260/0000006260-99-000005.txt',\n",
       "             134: 'https://www.sec.gov/Archives/edgar/data/6260/0000006260-99-000007.txt',\n",
       "             135: 'https://www.sec.gov/Archives/edgar/data/6260/0000006260-99-000010.txt',\n",
       "             136: 'https://www.sec.gov/Archives/edgar/data/11860/0000011860-98-000022.txt',\n",
       "             137: 'https://www.sec.gov/Archives/edgar/data/11860/0001021408-99-000543.txt',\n",
       "             138: 'https://www.sec.gov/Archives/edgar/data/11860/0000011860-99-000025.txt',\n",
       "             139: 'https://www.sec.gov/Archives/edgar/data/11860/0000011860-99-000030.txt',\n",
       "             140: 'https://www.sec.gov/Archives/edgar/data/11860/0000011860-99-000035.txt',\n",
       "             141: 'https://www.sec.gov/Archives/edgar/data/11860/0000011860-99-000042.txt',\n",
       "             142: 'https://www.sec.gov/Archives/edgar/data/11860/0000011860-00-000019.txt',\n",
       "             143: 'https://www.sec.gov/Archives/edgar/data/11860/0000011860-00-000022.txt',\n",
       "             144: 'https://www.sec.gov/Archives/edgar/data/11860/0000011860-00-000025.txt',\n",
       "             145: 'https://www.sec.gov/Archives/edgar/data/11860/0000011860-00-000028.txt',\n",
       "             146: 'https://www.sec.gov/Archives/edgar/data/11860/0000011860-00-000038.txt',\n",
       "             147: 'https://www.sec.gov/Archives/edgar/data/12239/0001104659-07-024804.txt',\n",
       "             148: 'https://www.sec.gov/Archives/edgar/data/12239/0001104659-07-040463.txt',\n",
       "             149: 'https://www.sec.gov/Archives/edgar/data/12239/0001104659-07-041441.txt',\n",
       "             150: 'https://www.sec.gov/Archives/edgar/data/12239/0001104659-07-042333.txt',\n",
       "             151: 'https://www.sec.gov/Archives/edgar/data/12239/0001104659-07-062470.txt'})"
      ]
     },
     "execution_count": 8,
     "metadata": {},
     "output_type": "execute_result"
    }
   ],
   "source": [
    "url"
   ]
  },
  {
   "cell_type": "code",
   "execution_count": 10,
   "metadata": {},
   "outputs": [],
   "source": [
    "# for i in url:\n",
    "#     response = urllib.request.urlopen(url[i])\n",
    "#     content = response.read().decode('utf8')\n",
    "    \n",
    "#     name_of_the_file = str(i) + '.html'\n",
    "    \n",
    "#     with open(name_of_the_file, 'w+') as f:\n",
    "#         f.write(content)"
   ]
  },
  {
   "cell_type": "code",
   "execution_count": 134,
   "metadata": {},
   "outputs": [],
   "source": [
    "from bs4 import BeautifulSoup"
   ]
  },
  {
   "cell_type": "code",
   "execution_count": 137,
   "metadata": {},
   "outputs": [],
   "source": [
    "response = urllib.request.urlopen('https://www.sec.gov/Archives/edgar/data/12239/0001104659-07-041441.txt')\n",
    "content = response.read().decode('utf8')"
   ]
  },
  {
   "cell_type": "code",
   "execution_count": 138,
   "metadata": {},
   "outputs": [],
   "source": [
    "def get_text_bs(html):\n",
    "    tree = BeautifulSoup(html, 'lxml')\n",
    "\n",
    "    body = tree.body\n",
    "    if body is None:\n",
    "        return None\n",
    "\n",
    "    for tag in body.select('script'):\n",
    "        tag.decompose()\n",
    "    for tag in body.select('style'):\n",
    "        tag.decompose()\n",
    "\n",
    "    text = body.get_text(separator='\\n')\n",
    "    return text"
   ]
  },
  {
   "cell_type": "code",
   "execution_count": 140,
   "metadata": {},
   "outputs": [],
   "source": [
    "content = get_text_bs(content)"
   ]
  },
  {
   "cell_type": "code",
   "execution_count": 141,
   "metadata": {
    "scrolled": false
   },
   "outputs": [
    {
     "data": {
      "text/plain": [
       "str"
      ]
     },
     "execution_count": 141,
     "metadata": {},
     "output_type": "execute_result"
    }
   ],
   "source": [
    "type(content)"
   ]
  },
  {
   "cell_type": "code",
   "execution_count": 142,
   "metadata": {},
   "outputs": [],
   "source": [
    "content = content.lower()"
   ]
  },
  {
   "cell_type": "code",
   "execution_count": 143,
   "metadata": {
    "scrolled": false
   },
   "outputs": [],
   "source": [
    "content = re.sub(r'<.*>|\\n|\\t|(&nbsp;)|(&#\\d+)|;', ' ', content)"
   ]
  },
  {
   "cell_type": "code",
   "execution_count": 144,
   "metadata": {},
   "outputs": [
    {
     "data": {
      "text/plain": [
       "'-----begin privacy-enhanced message----- proc-type: 2001,mic-clear originator-name: webmaster@www.sec.gov originator-key-asymmetric:  mfgwcgyevqgbaqicaf8dsgawrwjaw2snkk9avtbzyzmr6agjlwyk3xmzv3dtinen  twsm7vrzladbmyqaionwg5sdw3p6oam5d3tdezxmm7z1t+b+twidaqab mic-info: rsa-md5,rsa,  tnakpfjearmyw1v34+fems37qupgref3zmucfjlapdac4f5l/pqkdbbq7o5pg0q5  ftfdthezzow6is3onphnmw==   0001104659-07-041441.txt : 20070518  0001104659-07-041441.hdr.sgml : 20070518  20070518161211 accession number:  0001104659-07-041441 conformed submission type: 10-q public document count:  3 conformed period of report: 20070331 filed as of date:  20070518 date as of change:  20070518  filer:   company data:    company conformed name:   spherix inc   central index key:   0000012239   standard industrial classification: services-engineering, accounting, research, management [8700]   irs number:    520849320   state of incorporation:   de   fiscal year end:   1231   filing values:   form type:  10-q   sec act:  1934 act   sec file number: 000-05576   film number:  07864942   business address:    street 1:  12051 indian creek ct   city:   beltsville   state:   md   zip:   20705   business phone:  3014193900   mail address:    street 1:  12051 indian creek court   city:   beltsville   state:   md   zip:   20705   former company:    former conformed name: biospherics inc   date of name change: 19920703   former company:    former conformed name: biospherics research inc   date of name change: 19720404      10-q  1  a07-10901_210q.htm  10-q        \\xa0     \\xa0   united states  securities and exchange commission   washington, d.c.\\xa0 20549   \\xa0   form 10-q   \\xa0   (mark one)   \\xa0   x \\xa0\\xa0\\xa0\\xa0\\xa0\\xa0\\xa0\\xa0\\xa0\\xa0\\xa0\\xa0\\xa0\\xa0\\xa0\\xa0\\xa0\\xa0\\xa0\\xa0\\xa0\\xa0\\xa0\\xa0\\xa0\\xa0\\xa0\\xa0\\xa0  quarterly report pursuant to section 13 or 15(d) of the securities exchange act of 1934   \\xa0   for the quarterly period ended  march 31, 2007 .   \\xa0   o \\xa0\\xa0\\xa0\\xa0\\xa0\\xa0\\xa0\\xa0\\xa0\\xa0\\xa0\\xa0\\xa0\\xa0\\xa0\\xa0\\xa0\\xa0\\xa0\\xa0\\xa0\\xa0\\xa0\\xa0\\xa0\\xa0\\xa0\\xa0\\xa0\\xa0\\xa0\\xa0  transition report pursuant to section 13 or 15(d) of the securities exchange act of 1934   \\xa0   for the transition period from ____________ to ____________    \\xa0   commission file number  \\xa0\\xa0 0-5576   \\xa0   spherix incorporated   (exact name of registrant as specified in its charter)   \\xa0           delaware       \\xa0       52-0849320           (state or other   jurisdiction of incorporation or organization)       \\xa0       (i.r.s. employer   identification no.)           \\xa0   12051 indian creek court, beltsville, maryland 20705  (address of principal executive offices)   301-419-3900  (registrant\\x92s telephone number, including area code)   indicate by check mark whether the registrant (1) has filed all reports required to be filed by section 13 or 15(d) of the exchange act of 1934 during the preceding 12 months (or for such shorter period that the registrant was required to file such reports), and (2) has been subject to such filing requirements for the past 90 days.\\xa0\\xa0 yes  x \\xa0\\xa0\\xa0\\xa0 no  o   indicate by check mark whether the registrant is a large accelerated filer, an accelerated filer, or a non-accelerated filer. see definition of \\x93accelerated filer and large accelerated filer\\x94 in rule 12b-2 of the exchange act. (check one):   large accelerated filer  o \\xa0 accelerated filer  o \\xa0 non-accelerated filer  x   indicate by check mark whether the registrant is a shell company (as defined in rule 12b-2 of the exchange act).\\xa0 yes  o \\xa0 no  x   indicate the number of shares outstanding of each of the registrant\\x92s classes of common stock, as of the latest practicable date.           class       \\xa0       outstanding   as of may 9, 2007           common stock,   $0.005 par value       \\xa0       14,254,562   shares           \\xa0     \\xa0             \\xa0   spherix incorporated     \\xa0   form 10-q  for the quarter ended march 31, 2007   index               \\xa0       \\xa0       \\xa0       page no.           part   i. financial information       \\xa0       \\xa0           \\xa0       \\xa0       \\xa0       \\xa0       \\xa0           item   1.       \\xa0       financial   statements (unaudited)       \\xa0       \\xa0           \\xa0       \\xa0       \\xa0       \\xa0       \\xa0           \\xa0       \\xa0       consolidated statements of operations for the   three-month periods ended march 31, 2007 and 2006       \\xa0       \\xa03           \\xa0       \\xa0       \\xa0       \\xa0       \\xa0           \\xa0       \\xa0       consolidated   balance sheets as of march 31, 2007 and december 31, 2006       \\xa0       \\xa04           \\xa0       \\xa0       \\xa0       \\xa0       \\xa0           \\xa0       \\xa0       consolidated statements of cash flows for the   three-month periods ended march 31, 2007 and 2006       \\xa0       \\xa05           \\xa0       \\xa0       \\xa0       \\xa0       \\xa0           \\xa0       \\xa0       notes to the consolidated financial statements       \\xa0       \\xa06           \\xa0       \\xa0       \\xa0       \\xa0       \\xa0           item 2.       \\xa0       management\\x92s discussion and analysis of financial   condition and results of operations       \\xa0       \\xa08           \\xa0       \\xa0       \\xa0       \\xa0       \\xa0           item 3.       \\xa0       quantitative and qualitative disclosures about market   risk       \\xa0       12           \\xa0       \\xa0       \\xa0       \\xa0       \\xa0           item 4.       \\xa0       controls and procedures       \\xa0       12           \\xa0       \\xa0       \\xa0       \\xa0       \\xa0           part   ii. other information       \\xa0       \\xa0           \\xa0       \\xa0       \\xa0       \\xa0       \\xa0           item 1a.       \\xa0       risk factors       \\xa0       13           \\xa0       \\xa0       \\xa0       \\xa0       \\xa0           item 6.       \\xa0       exhibits       \\xa0       13           \\xa0       \\xa0       \\xa0       \\xa0       \\xa0           signatures       \\xa0       \\xa0       \\xa0       13         \\xa0   2           spherix incorporated     part i \\xa0\\xa0\\xa0\\xa0\\xa0\\xa0\\xa0\\xa0\\xa0\\xa0\\xa0\\xa0\\xa0\\xa0\\xa0\\xa0\\xa0\\xa0\\xa0\\xa0\\xa0\\xa0\\xa0\\xa0\\xa0\\xa0\\xa0\\xa0\\xa0\\xa0\\xa0   financial information   item 1. \\xa0\\xa0\\xa0\\xa0\\xa0\\xa0\\xa0\\xa0\\xa0\\xa0\\xa0\\xa0\\xa0\\xa0\\xa0\\xa0\\xa0\\xa0\\xa0\\xa0\\xa0\\xa0\\xa0\\xa0\\xa0  financial statements   consolidated statements of operations   (unaudited)         \\xa0       \\xa0       three\\xa0months\\xa0ended\\xa0march\\xa031,       \\xa0           \\xa0       \\xa0       2007       \\xa0       2006       \\xa0           \\xa0       \\xa0       \\xa0       \\xa0       \\xa0       \\xa0           revenue       \\xa0       $       5,347,172       \\xa0       $       5,922,164       \\xa0           \\xa0       \\xa0       \\xa0       \\xa0       \\xa0       \\xa0           operating expense       \\xa0       \\xa0       \\xa0       \\xa0       \\xa0           direct contract   and operating costs       \\xa0       4,916,180       \\xa0       4,920,555       \\xa0           selling, general   and administrative expense       \\xa0       1,410,223       \\xa0       1,429,944       \\xa0           research and   development expense       \\xa0       1,399,603       \\xa0       104,751       \\xa0           total operating   expense       \\xa0       7,726,006       \\xa0       6,455,250       \\xa0           \\xa0       \\xa0       \\xa0       \\xa0       \\xa0       \\xa0           loss from operations       \\xa0       (2,378,834       )       (533,086       )           interest income       \\xa0       109,995       \\xa0       34,246       \\xa0           interest   expenses       \\xa0       9,182       \\xa0       34,189       \\xa0           loss before taxes       \\xa0       (2,278,021       )       (533,029       )           income tax expense       \\xa0       12,500       \\xa0       \\x97       \\xa0           net loss       \\xa0       $       (2,290,521       )       $       (533,029       )           \\xa0       \\xa0       \\xa0       \\xa0       \\xa0       \\xa0           net loss per share,   basic       \\xa0       $       (0.16       )       $       (0.04       )           net loss per share,   diluted       \\xa0       $       (0.16       )       $       (0.04       )           \\xa0       \\xa0       \\xa0       \\xa0       \\xa0       \\xa0           weighted average shares   outstanding, basic       \\xa0       13,996,759       \\xa0       12,982,950       \\xa0           weighted average shares outstanding, diluted       \\xa0       13,996,759       \\xa0       12,982,950       \\xa0         \\xa0   see accompanying notes to financial statements.   3         spherix incorporated     consolidated balance sheets         assets       \\xa0       march\\xa031,\\xa02007    (unaudited)       \\xa0       december\\xa031,    \\xa02006       \\xa0           current assets       \\xa0       \\xa0       \\xa0       \\xa0       \\xa0           cash and cash equivalents       \\xa0       $       9,882,630       \\xa0       $       10,951,275       \\xa0           trade accounts receivable, net of allowance for   doubtful accounts of $0 and $15,000        \\xa0       2,423,619        \\xa0       2,165,605        \\xa0           other receivables       \\xa0       75,916       \\xa0       13,759       \\xa0           prepaid expenses and other assets       \\xa0       969,525       \\xa0       643,461       \\xa0           total current assets       \\xa0       13,351,690       \\xa0       13,774,100       \\xa0           \\xa0       \\xa0       \\xa0       \\xa0       \\xa0       \\xa0           property and equipment, net       \\xa0       3,781,916       \\xa0       3,914,300       \\xa0           patents, net of accumulated amortization of $571,213   and $529,971       \\xa0       646,284       \\xa0       687,526       \\xa0           total assets       \\xa0       $       17,779,890       \\xa0       $       18,375,926       \\xa0           \\xa0       \\xa0       \\xa0       \\xa0       \\xa0       \\xa0           liabilities   and stockholders\\x92 equity       \\xa0       \\xa0       \\xa0       \\xa0       \\xa0           current   liabilities       \\xa0       \\xa0       \\xa0       \\xa0       \\xa0           bank line of credit       \\xa0       $       \\x97       \\xa0       $       \\x97       \\xa0           accounts payable and accrued expenses       \\xa0       2,790,084       \\xa0       1,535,543       \\xa0           accrued salaries and benefits       \\xa0       895,929       \\xa0       1,147,523       \\xa0           capital lease obligations       \\xa0       200,334       \\xa0       225,451       \\xa0           total current liabilities       \\xa0       3,886,347       \\xa0       2,908,517       \\xa0           \\xa0       \\xa0       \\xa0       \\xa0       \\xa0       \\xa0           capital lease obligations       \\xa0       106,026       \\xa0       138,748       \\xa0           deferred compensation       \\xa0       496,426       \\xa0       495,000       \\xa0           deferred rent       \\xa0       266,582       \\xa0       283,064       \\xa0           total liabilities       \\xa0       4,755,381       \\xa0       3,825,329       \\xa0           \\xa0       \\xa0       \\xa0       \\xa0       \\xa0       \\xa0           commitments and   contingencies       \\xa0       \\x97       \\xa0       \\x97       \\xa0           \\xa0       \\xa0       \\xa0       \\xa0       \\xa0       \\xa0           stockholders\\x92   equity       \\xa0       \\xa0       \\xa0       \\xa0       \\xa0           preferred stock, $0.01 par value, 2,000,000 shares   authorized  none issued and outstanding       \\xa0       \\x97       \\xa0       \\x97       \\xa0           common stock, $0.005 par value, 50,000,000 shares   authorized  14,335,000 and 13,892,642 issued, and 14,254,562 and 13,812,204 shares   outstanding at march\\xa031, 2007 and december 31, 2006       \\xa0       71,496       \\xa0       69,463       \\xa0           paid-in capital in excess of par value       \\xa0       27,434,784       \\xa0       26,672,384       \\xa0           treasury stock, 80,438 shares at cost       \\xa0       (464,786       )       (464,786       )           accumulated deficit       \\xa0       (14,016,985       )       (11,726,464       )           total stockholders\\x92 equity       \\xa0       13,024,509       \\xa0       14,550,597       \\xa0           total   liabilities and stockholders\\x92 equity       \\xa0       $       17,779,890       \\xa0       $       18,375,926       \\xa0         \\xa0   see accompanying notes to financial statements.   4         spherix incorporated     consolidated statements of cash flows   (unaudited)         \\xa0       \\xa0       three\\xa0months\\xa0ended\\xa0march\\xa031,       \\xa0           \\xa0       \\xa0       \\xa0\\xa0\\xa0\\xa02007\\xa0\\xa0\\xa0\\xa0       \\xa0       \\xa0\\xa0\\xa0\\xa02006\\xa0\\xa0\\xa0\\xa0       \\xa0           cash   flows from operating activities       \\xa0       \\xa0       \\xa0       \\xa0       \\xa0           net loss       \\xa0       $       (2,290,521       )       $       (533,029       )           adjustments to   reconcile net loss to net cash used in operating activities:       \\xa0       \\xa0       \\xa0       \\xa0       \\xa0           depreciation and amortization       \\xa0       643,053       \\xa0       634,513       \\xa0           provision for uncollected accounts receivable       \\xa0       (15,000       )       \\x97       \\xa0           stock-based compensation       \\xa0       6,933       \\xa0       11,229       \\xa0           changes in assets and liabilities:       \\xa0       \\xa0       \\xa0       \\xa0       \\xa0           trade accounts receivable       \\xa0       (243,014       )       (1,637,999       )           other receivables       \\xa0       (62,157       )       224,739       \\xa0           prepaid expenses and other assets       \\xa0       (326,064       )       (84,828       )           accounts payable and accrued expenses       \\xa0       761,137       \\xa0       935,539       \\xa0           deferred rent       \\xa0       (16,482       )       (7,550       )           deferred compensation       \\xa0       1,426       \\xa0       1,426       \\xa0           \\xa0       \\xa0       \\xa0       \\xa0       \\xa0       \\xa0           net cash used in   operating activities       \\xa0       (1,540,689       )       (455,960       )           \\xa0       \\xa0       \\xa0       \\xa0       \\xa0       \\xa0           cash   flows from investing activities       \\xa0       \\xa0       \\xa0       \\xa0       \\xa0           purchases of property and equipment       \\xa0       (552,040       )       (476,519       )           \\xa0       \\xa0       \\xa0       \\xa0       \\xa0       \\xa0           net cash used in   investing activities       \\xa0       (552,040       )       (476,519       )           \\xa0       \\xa0       \\xa0       \\xa0       \\xa0       \\xa0           cash   flows from financing activities       \\xa0       \\xa0       \\xa0       \\xa0       \\xa0           net change on bank line of credit       \\xa0       \\x97       \\xa0       38,278       \\xa0           net change in book overdraft       \\xa0       324,423       \\xa0       24,948       \\xa0           payments on capital lease obligations       \\xa0       (57,839       )       (4,114       )           proceeds from issuance of common stock       \\xa0       757,500       \\xa0       2,665,164       \\xa0           \\xa0       \\xa0       \\xa0       \\xa0       \\xa0       \\xa0           net cash   provided by financing activities       \\xa0       1,024,084       \\xa0       2,724,276       \\xa0           \\xa0       \\xa0       \\xa0       \\xa0       \\xa0       \\xa0           net   (decrease) increase in cash and cash equivalents       \\xa0       (1,068,645       )       1,791,797       \\xa0           cash   and cash equivalents, beginning of period       \\xa0       10,951,275       \\xa0       2,667,733       \\xa0           \\xa0       \\xa0       \\xa0       \\xa0       \\xa0       \\xa0           cash and cash equivalents, end   of period       \\xa0       $       9,882,630       \\xa0       $       4,459,530       \\xa0         \\xa0   see accompanying notes to financial statements.   5           spherix incorporated     notes to the consolidated financial statements   (unaudited)   1. \\xa0\\xa0\\xa0\\xa0\\xa0\\xa0\\xa0\\xa0\\xa0\\xa0\\xa0\\xa0\\xa0\\xa0\\xa0\\xa0\\xa0\\xa0\\xa0\\xa0\\xa0\\xa0\\xa0\\xa0\\xa0\\xa0\\xa0\\xa0\\xa0\\xa0\\xa0\\xa0\\xa0\\xa0\\xa0\\xa0\\xa0  basis of presentation   on january 1, 2006, spherix transferred the assets of its infospherix division to a new wholly-owned subsidiary, infospherix incorporated (\\x93infospherix\\x94).\\xa0 the activities of the \\x93biospherix\\x94 division continue to operate through spherix incorporated.\\xa0 the consolidated financial statements include the accounts of both spherix incorporated and infospherix incorporated (collectively, the \\x93company\\x94).\\xa0 all intercompany balances and transactions have been eliminated.   the accompanying consolidated financial statements of the company are unaudited and do not include all of the information and disclosures generally required for annual financial statements.\\xa0 in the opinion of management, the statements contain all material adjustments (consisting of normal recurring accruals) necessary to present fairly the company\\x92s financial position as of march 31, 2007, the results of its operations for the three-month periods ended march 31, 2007 and 2006, and its cash flows for the three-month periods ended march 31, 2007 and 2006.\\xa0 this report should be read in conjunction with the company\\x92s annual report on form 10-k, which does contain the complete information and disclosure for the year ended december 31, 2006.   2. \\xa0\\xa0\\xa0\\xa0\\xa0\\xa0\\xa0\\xa0\\xa0\\xa0\\xa0\\xa0\\xa0\\xa0\\xa0\\xa0\\xa0\\xa0\\xa0\\xa0\\xa0\\xa0\\xa0\\xa0\\xa0\\xa0\\xa0\\xa0\\xa0\\xa0\\xa0\\xa0\\xa0\\xa0\\xa0\\xa0\\xa0  use of estimates and assumptions   the accompanying consolidated financial statements have been prepared in conformity with accounting principles generally accepted in the united states of america.\\xa0 this requires management to make estimates and assumptions that affect certain reported amounts of assets and liabilities and disclosures of contingent assets and liabilities at the date of the financial statements, and the reported amounts of revenue and expenses during the period.\\xa0 accordingly, actual results could differ from those estimates and assumptions.   3. \\xa0\\xa0\\xa0\\xa0\\xa0\\xa0\\xa0\\xa0\\xa0\\xa0\\xa0\\xa0\\xa0\\xa0\\xa0\\xa0\\xa0\\xa0\\xa0\\xa0\\xa0\\xa0\\xa0\\xa0\\xa0\\xa0\\xa0\\xa0\\xa0\\xa0\\xa0\\xa0\\xa0\\xa0\\xa0\\xa0\\xa0  net loss per share   basic loss per common share has been computed by dividing net loss by the weighted-average number of common shares outstanding during the period.\\xa0 diluted net loss per common share has been computed by dividing net loss by the weighted-average number of common shares outstanding without an assumed increase in common shares outstanding for common stock equivalents, as common stock equivalents are antidilutive.\\xa0 common stock equivalents consist of stock options and warrants that are assumed likely to be exercised.\\xa0 common stock equivalents were 32,455 at march 31, 2006 and none at march 31, 2007.   4. \\xa0\\xa0\\xa0\\xa0\\xa0\\xa0\\xa0\\xa0\\xa0\\xa0\\xa0\\xa0\\xa0\\xa0\\xa0\\xa0\\xa0\\xa0\\xa0\\xa0\\xa0\\xa0\\xa0\\xa0\\xa0\\xa0\\xa0\\xa0\\xa0\\xa0\\xa0\\xa0\\xa0\\xa0\\xa0\\xa0\\xa0  stockholders\\x92 equity   during the three months ended march 31, 2007, the company sold 442,358 shares for an additional $757,500 in proceeds under the july 22, 2005, standby equity distribution agreement (\\x93seda\\x94).\\xa0 at march 31, 2007, the remaining maximum amount available for future draws under the seda was $800,000.   on march 9, 2006, in exchange for the company\\x92s agreement to reduce the exercise price to $2.04 per share, an institutional investor (\\x93the investor\\x94) agreed to exercise the remainder of its warrants for the purchase of 585,973 shares of common stock for total proceeds of approximately $1.2 million.\\xa0 in connection with these warrants, the investor agreed that it would not exercise any of the warrants to the extent that it would acquire shares of common stock exceeding 9.9% of the outstanding common stock, nor would it knowingly sell shares to anyone to the extent that their holdings in the company would exceed 4.9% of the outstanding common stock.\\xa0 the warrants and shares of common stock were issued in transactions exempt from registration pursuant to section 4(2) of the securities act.\\xa0 the company has registered the shares issuable upon exercise of the warrants for resale by the institutional investor.   6         5. \\xa0\\xa0\\xa0\\xa0\\xa0\\xa0\\xa0\\xa0\\xa0\\xa0\\xa0\\xa0\\xa0\\xa0\\xa0\\xa0\\xa0\\xa0\\xa0\\xa0\\xa0\\xa0\\xa0\\xa0\\xa0\\xa0\\xa0\\xa0\\xa0\\xa0\\xa0\\xa0\\xa0\\xa0\\xa0\\xa0\\xa0  accounting for stock-based compensation   effective january 1, 2006, the company adopted statement of financial accounting standards no. 123(r) \\x93share-based payment\\x94 (fas 123r), which requires the measurement of all employee share-based payments to employees, including grants of employee stock options, using a fair-value based method and the recording of such expense in the consolidated statements of operations and comprehensive loss.\\xa0 the company uses a black-scholes option pricing model and has elected to use the modified prospective transition method and, therefore, has not restated results for prior periods.\\xa0 at the time the company adopted fas 123r, there were no unvested options outstanding.\\xa0 for the three months ended march 31, 2007 and 2006, the company recognized $6,933 and $3,466 in stock-based compensation expense relating to 59,000 stock options awarded in february 2006.\\xa0 the effect of adopting fas 123r for the three months ended march 31, 2007 and 2006, increased the loss from operations, the loss before taxes, and the net loss by $6,933 and $3,466 and had no effect on basic and diluted earnings per share, net cash flow from operations, or net cash flow from financing activities.   a summary of option activity under the company\\x92s employee stock option plan for the three months ended march\\xa031, 2007, is presented below:           options       \\xa0       \\xa0       \\xa0       shares       \\xa0       weighted-    average    exercise    price       \\xa0       weighted-    average    remaining    contractual    term       \\xa0       aggregate    intrinsic    value       \\xa0           outstanding at   december 31, 2006       \\xa0       501,000       \\xa0       $       7.11       \\xa0       \\xa0       \\xa0       \\xa0       \\xa0           granted       \\xa0       \\x97       \\xa0       \\x97       \\xa0       \\xa0       \\xa0       \\xa0       \\xa0           exercised       \\xa0       \\x97       \\xa0       \\x97       \\xa0       \\xa0       \\xa0       \\xa0       \\xa0           expired or forfeited       \\xa0       \\x97       \\xa0       \\x97       \\xa0       \\xa0       \\xa0       \\xa0       \\xa0           outstanding at   march 31, 2007       \\xa0       501,000       \\xa0       $       7.11       \\xa0       2.1       \\xa0       $       \\x97       \\xa0           \\xa0       \\xa0       \\xa0       \\xa0       \\xa0       \\xa0       \\xa0       \\xa0       \\xa0       \\xa0           exercisable at   march 31, 2007       \\xa0       475,600       \\xa0       $       7.37       \\xa0       2.0       \\xa0       $       \\x97       \\xa0           \\xa0   as of march 31, 2007, there were approximately 25,500 unvested options to purchase common stock under the plans.\\xa0 the total fair value of the unvested options was approximately $47,940.\\xa0 an estimated compensation cost of $79,722 related to these unvested options is expected to be recognized over the next three years.   the company used the following assumptions in the black-scholes calculation used to measure the fair value of the february 2006 option awards in accordance with fas 123r.           expected term (in years)       \\xa0       4       \\xa0           expected   volatility       \\xa0       140.9%       \\xa0           expected   dividends       \\xa0       0%       \\xa0           risk-free rate       \\xa0       4.6%       \\xa0           \\xa0   6. \\xa0\\xa0\\xa0\\xa0\\xa0\\xa0\\xa0\\xa0\\xa0\\xa0\\xa0\\xa0\\xa0\\xa0\\xa0\\xa0\\xa0\\xa0\\xa0\\xa0\\xa0\\xa0\\xa0\\xa0\\xa0\\xa0\\xa0\\xa0\\xa0\\xa0\\xa0\\xa0\\xa0\\xa0\\xa0\\xa0\\xa0  income tax   the company adopted financial standards accounting board interpretation no. 48 accounting for uncertainty in income taxes (\\x93fin 48\\x94) on january 1, 2007.\\xa0 as a result of the implementation of fin 48, the company recognized no material adjustments.\\xa0 the company\\x92s policy is to recognize interest and penalties on tax liabilities as interest expense.\\xa0 at january 1, 2007 and march 31, 2007, the company had no unrecognized income tax benefits and recognized no interest or penalties on income tax liabilities.   the federal and significant state statutes of limitations have not expired for the company\\x92s tax years ended december 31, 2003 through december 31, 2005.\\xa0 as such, each of these tax years remain subject to examination by taxing authorities.\\xa0 the federal and significant state statutes of limitations for the company\\x92s tax years ended december 31, 1998, december 31, 1999 and december 31, 2002 have expired  however $10,217,142 of federal net operating loss   7         carryforwards generated in these closed years remain available to the company and are subject to adjustment prior to utilization in future tax years.   7. \\xa0\\xa0\\xa0\\xa0\\xa0\\xa0\\xa0\\xa0\\xa0\\xa0\\xa0\\xa0\\xa0\\xa0\\xa0\\xa0\\xa0\\xa0\\xa0\\xa0\\xa0\\xa0\\xa0\\xa0\\xa0\\xa0\\xa0\\xa0\\xa0\\xa0\\xa0\\xa0\\xa0\\xa0\\xa0\\xa0\\xa0  information by business segment   the company operates via two principal segments, biospherix and infospherix.\\xa0 biospherix develops proprietary products for commercial applications.\\xa0 infospherix provides contact center information and reservation services for government and industry, with substantially all of infospherix revenue generated from government customers.\\xa0 revenue from reservation and tourism services is greatest in the spring and summer when vacation planning is the heaviest.\\xa0 revenue from other sources tends to be more evenly spread throughout the year, although the fourth quarter is historically the low period of the year.   financial information by business segment for the three months ended march 31, 2007 and 2006 is summarized below:         \\xa0       \\xa0       \\xa0       \\xa0       three\\xa0months\\xa0ended\\xa0march\\xa031,       \\xa0           \\xa0       \\xa0       \\xa0       \\xa0       (dollars\\xa0in\\xa0thousands)       \\xa0           \\xa0       \\xa0       \\xa0       \\xa0       \\xa0\\xa0\\xa0\\xa0\\xa0\\xa0\\xa0\\xa02007\\xa0\\xa0\\xa0\\xa0\\xa0\\xa0\\xa0\\xa0       \\xa0       \\xa0\\xa0\\xa0\\xa0\\xa0\\xa0\\xa0\\xa02006\\xa0\\xa0\\xa0\\xa0\\xa0\\xa0\\xa0\\xa0       \\xa0           revenue       \\xa0       infospherix       \\xa0       $       5,347       \\xa0       $       5,919       \\xa0           \\xa0       \\xa0       biospherix       \\xa0       \\x97       \\xa0       3       \\xa0           \\xa0       \\xa0       total   revenue       \\xa0       $       5,347       \\xa0       $       5,922       \\xa0           \\xa0       \\xa0       \\xa0       \\xa0       \\xa0       \\xa0       \\xa0       \\xa0           operating   (loss) income       \\xa0       infospherix       \\xa0       $       (302       )       $       137       \\xa0           and (loss) income before       \\xa0       biospherix       \\xa0       (2,077       )       (670       )           income taxes       \\xa0       total   operating loss       \\xa0       (2,379       )       (533       )           \\xa0       \\xa0       interest income       \\xa0       110       \\xa0       34       \\xa0           \\xa0       \\xa0       interest expense       \\xa0       9       \\xa0       34       \\xa0           \\xa0       \\xa0       income   (loss) from operations before income taxes        \\xa0       $\\xa0       (2,278        )        $\\xa0       (533        )            \\xa0       \\xa0       \\xa0       \\xa0       \\xa0       \\xa0       \\xa0       \\xa0           identifiable   assets       \\xa0       infospherix       \\xa0       $       15,229       \\xa0       $       11,282       \\xa0           \\xa0       \\xa0       biospherix       \\xa0       2,551       \\xa0       5,037       \\xa0           \\xa0       \\xa0       total assets       \\xa0       $       17,780       \\xa0       $       16,319       \\xa0         \\xa0   8. \\xa0\\xa0\\xa0\\xa0\\xa0\\xa0\\xa0\\xa0\\xa0\\xa0\\xa0\\xa0\\xa0\\xa0\\xa0\\xa0\\xa0\\xa0\\xa0\\xa0\\xa0\\xa0\\xa0\\xa0\\xa0\\xa0\\xa0\\xa0\\xa0\\xa0\\xa0\\xa0\\xa0\\xa0\\xa0\\xa0\\xa0  subsequent event   in april 2007, the company committed to a plan to sell the infospherix subsidiary and on april 17, 2007 signed a non-binding letter of intent to sell the infospherix.\\xa0 the sale will allow spherix to focus all of its efforts on the biospherix division\\x92s biotechnology products, with the principal focus on the commercialization of naturlose.\\xa0 the company is in negotiations regarding the terms of the sale and the sale is subject to several contingencies, including execution of a definitive agreement of sale, and approval of the transaction by the company\\x92s stockholders.\\xa0 the sale is expected to close by the end of the summer of 2007.\\xa0 the infospherix segment (see note 7) comprises the majority of the company\\x92s operations.   item 2. \\xa0\\xa0\\xa0\\xa0\\xa0\\xa0\\xa0\\xa0\\xa0\\xa0\\xa0\\xa0\\xa0\\xa0\\xa0\\xa0\\xa0\\xa0\\xa0\\xa0\\xa0\\xa0\\xa0\\xa0\\xa0  management\\x92s discussion and analysis of financial condition and results of operations   the following is intended to update the information contained in the company\\x92s annual report on form 10-k for the year ended december 31, 2006, and presumes that readers have access to, and will have read, \\x93management\\x92s discussion and analysis of financial condition and results of operations\\x94 contained in such form 10-k.   certain statements in this quarterly report on form 10-q may contain forward-looking statements within the meaning of section 27a of the securities act of 1933 and section 21e of the securities exchange act of 1934 and are identified by the use of forward-looking words or phrases such as \\x93believes,\\x94 \\x93expects,\\x94 is or are \\x93expected,\\x94 \\x93anticipates,\\x94 \\x93anticipated,\\x94 \\x93should\\x94 and words of similar impact.\\xa0 these forward-looking statements are based on the   8         company\\x92s current expectations.\\xa0 because forward-looking statements involve risks and uncertainties, the company\\x92s actual results could differ materially.\\xa0 see the company\\x92s form 8-k filing dated march 26, 1999, for a more detailed statement concerning forward-looking statements.   overview   the company operates via two principal segments, biospherix and infospherix.\\xa0 biospherix develops proprietary products for commercial applications.\\xa0 infospherix provides contact center information and reservation services for government and industry, with substantially all of infospherix revenue generated from government customers.   biospherix engages in product development, notably tagatose.\\xa0 the company\\x92s current focus is on the non-food use of tagatose, which we will market under the name \\x93naturlose\\x94.\\xa0 our principal efforts have been to explore whether naturlose is an effective treatment for type 2 diabetes.\\xa0 in april 2007, the company commenced a phase 3 trial for this purpose.   infospherix has developed a niche in providing campground and other reservation services via its reserveworld business line and is one of only two major suppliers of campground reservation services in the u.s.\\xa0 reservation contracts make up over 50% of the company\\x92s revenue.\\xa0 the reservation services contracts have revenue streams that are historically greater in the spring and summer months when vacation planning is more prevalent.\\xa0 these reservation contracts have certain fixed costs that continue throughout the year such as depreciation, telephone and computer related service and maintenance contracts, and minimum staffing requirements.\\xa0 these contracts also incur certain costs in advance of the peak seasons in order to staff up and train the work force that will be needed during the peak seasons.\\xa0 on january 23, 2007, the company concluded its long-standing national park service contract.\\xa0 the national park service contract contributed approximately $4.0 million in revenue for each of the years ended december 31, 2006 and 2005, and $174,000 and $794,000 in revenue for the three months ended march 31, 2007 and 2006, respectively.   in april 2007, the company committed to a plan to sell the infospherix subsidiary and on april 17, 2007 signed a non-binding letter of intent to sell the infospherix.\\xa0 the sale will allow spherix to focus all of its efforts on the biospherix division\\x92s biotechnology products, with the principal focus on the commercialization of naturlose.\\xa0 the company is in negotiations regarding the terms of the sale and the sale is subject to several contingencies, including execution of a definitive agreement of sale, and approval of the transaction by the company\\x92s stockholders.\\xa0 the sale is expected to close by the end of the summer of 2007.\\xa0 the infospherix segment (see note 7) comprises the majority of the company\\x92s operations.   results of operations for the three months ended march 31, 2007 and 2006   revenue and direct contract and operating costs   see \\x93infospherix\\x94 below.   selling, general and administrative   selling, general and administrative expenses for the three months ended march 31, 2007, were consistent with those of the same period of the prior year.\\xa0 the company\\x92s selling, general and administrative expenses consist primarily of executive management salaries and fringes, sales and marketing costs, finance and accounting, and human resources, as well as costs related to being a public company.   research and development   see \\x93biospherix\\x94 below.   9         interest   interest income increased $101,000 between years as a direct result of the increased cash invested, principally generated by the $6 million settlement award with the department of agriculture in october 2006.                 \\xa0       three\\xa0months\\xa0ended\\xa0march\\xa031,       \\xa0           \\xa0       \\xa0       2007       \\xa0       2006       \\xa0           revenue       \\xa0       $       5,347,000       \\xa0       $       5,919,000       \\xa0           direct cost and   operating expense       \\xa0       4,916,000       \\xa0       4,921,000       \\xa0           gross margin       \\xa0       $       431,000       \\xa0       $       998,000       \\xa0           \\xa0   infospherix   revenue for the three months ended march 31, 2007, decreased $575,000 (9.7%) from the same period in 2006 due to the completion of the national park service contract, which concluded on january 23, 2007.\\xa0 reductions from the direct costs associated with the national park service contract were off-set by increased costs under the new michigan contract and additional costs incurred under the contracts transferred from the former south dakota facility to the new facility in indiana.\\xa0 the national park service contract contributed approximately $4.0 million in revenue for each of the years ended december 31, 2006 and 2005, and $174,000 and $794,000 in revenue for the three months ended march 31, 2007 and 2006, respectively.   biospherix   the primary focus of biospherix\\x92s research and development (r&d) activities  for the three months ended march\\xa031, 2007, has been on the planning and preparation of a phase 3 clinical trial in the use of naturlose for the treatment of type 2 diabetes.\\xa0 the company has completed a dose range-finding study, and the recruitment of patients for the trial, which will take place in australia and the united states, is on-going.\\xa0 the first participants began the phase 3 clinical trial in april 2007.\\xa0 more than 400 subjects from the united states and abroad, representing the demographic mix in the u.s., will receive oral doses of naturlose to test its ability to treat type 2 diabetes.\\xa0 a phase 3 clinical trial, which gathers evidence regarding effectiveness and safety, is needed to evaluate the overall benefit-risk relationship of new drugs proposed to the fda.\\xa0 the company believes its chances for a successful outcome are enhanced by the widely demonstrated safety of the product, lack of safety being the primary cause for failure of most drug candidates.   in 2005, the company contracted with the university of maryland school of dentistry to conduct a human clinical trial on the oral anti-plaque efficacy of naturlose.\\xa0 the study demonstrated tagatose to be much more resistant to oral bacteria, which form plaque, than is sorbitol, a sugar substitute that is widely used in oral care products.\\xa0 the study suggested ways of modifying the naturlose product to effect desired plaque reduction.\\xa0 such modifications have been made, and the company has arranged with the university of maryland school of dentistry to conduct a trial of naturlose toothpaste formulated by the company in an attempt to establish an anti-plaque claim for the toothpaste.\\xa0 the clinical trial started in early 2007.   in the first quarter of 2007, the company expended $1.4 million in furtherance of its biospherix r&d activities, as compared to $105,000 in the first quarter of 2006.\\xa0 the increased level of expenditures is primarily attributable to the phase 3 trial.   liquidity and capital resources, consolidated   on march 31, 2006, the company entered into a new agreement with bank of america (\\x93the bank\\x94) to establish a line-of-credit (\\x93new agreement\\x94) for its subsidiary, infospherix incorporated, with the outstanding borrowings under the old line of credit transferred to the new agreement.\\xa0 the new agreement, which matures june 30, 2008, provides for borrowings up to $1.5 million, is collateralized by the subsidiary\\x92s accounts receivables and equipment, and contains covenants on tangible net worth and funded debt to ebitda ratios.\\xa0 such covenants could have a limiting effect on the amount of cash that the subsidiary can advance to spherix.\\xa0 the interest rate under the agreement is based on the libor daily floating rate plus 3% (approximately 8.5% at march 31, 2007).\\xa0 the company had no outstanding borrowings under the agreement at march 31, 2007, and the total amount available for future advances to the subsidiary was $1.5 million under the agreement.   10         working capital as of march 31, 2007, was $9.5 million, which represents a $1.4 million decrease from working capital of $10.9 million at december 31, 2006.\\xa0 the decrease in working capital was largely related to the company\\x92s phase 3 clinical trial costs.   spherix expects to expend up to $5 million over the next year in costs related to the phase 3 clinical trial and other r&d activity.\\xa0 the clinical trial is expected to take at least two years to complete.\\xa0 the company intends to finance the biospherix activities through spherix\\x92s cash reserves, proceeds from the issuance of common stock, and proceeds from the sale of the infospherix subsidiary.\\xa0 the company also intends to seek pharmaceutical partners to assist in completing development of the biospherix products.   infospherix incorporated intends to finance its furniture and equipment needs through financing or leasing arrangements where practicable, including those related to the start-up costs of new contracts the company may win.   cash flow for the three months ended march 31, 2007, reflects a net cash outflow of $1.1 million, consisting of $1.5 million used in operating activities, $552,000 used in investing activities, and $1 million provided by financing activities.\\xa0 the increase in cash used by operating activities in 2007 from that of the prior year is primarily related to the cost of the phase 3 clinical trial.\\xa0 cash used in investing activities was consistent with that of the prior year.\\xa0 cash flows from financing activities in 2006 included proceeds from the issuance of warrants.   trends and outlooks   biospherix   · \\xa0\\xa0\\xa0\\xa0\\xa0\\xa0\\xa0\\xa0\\xa0\\xa0\\xa0\\xa0\\xa0\\xa0\\xa0\\xa0\\xa0  biospherix\\x92s primary emphasis is on a phase 3 clinical trial to demonstrate that naturlose is a successful treatment for type 2 diabetes.\\xa0 the first participants have already been enrolled and the trial began in april 2007.   · \\xa0\\xa0\\xa0\\xa0\\xa0\\xa0\\xa0\\xa0\\xa0\\xa0\\xa0\\xa0\\xa0\\xa0\\xa0\\xa0\\xa0  costs of conducting the phase 3 trial have substantially increased as we have obtained further direction from the fda concerning the processes to be employed in the trial.\\xa0 the company expects to spend up to $5 million in r&d costs over the next year.\\xa0 the company intends to use the proceeds from the sale of the infospherix subsidiary to fund the phase 3 trial.\\xa0 if the sale is not concluded, the company will need to reassess continuation of the tests in view of the increased costs of the tests and the expected follow on costs in pursuit of fda approval.   infospherix   · \\xa0\\xa0\\xa0\\xa0\\xa0\\xa0\\xa0\\xa0\\xa0\\xa0\\xa0\\xa0\\xa0\\xa0\\xa0\\xa0\\xa0  the company concluded the national park service contract on january 23, 2007.\\xa0 the national park service contract contributed approximately $4 million in revenue for each of the years ended december 31, 2006 and 2005.\\xa0 the loss of the national park service contract will have an adverse effect on the company\\x92s financial results in comparison to the prior year.   · \\xa0\\xa0\\xa0\\xa0\\xa0\\xa0\\xa0\\xa0\\xa0\\xa0\\xa0\\xa0\\xa0\\xa0\\xa0\\xa0\\xa0  since 1998, infospherix has grown its government park reservation business from one contract to 17 government reservation contracts.\\xa0 infospherix\\x92s reservation business accounted for over 60% of the company\\x92s revenue in 2006 and 2005, and over 50% for the three months ended march 31, 2007.\\xa0 infospherix is now one of only two major suppliers of government campground reservation services in the u.s.   · \\xa0\\xa0\\xa0\\xa0\\xa0\\xa0\\xa0\\xa0\\xa0\\xa0\\xa0\\xa0\\xa0\\xa0\\xa0\\xa0\\xa0  on february 6, 2007, the company signed an agreement to lease 32,423 square feet of facility space in frostburg, maryland effective december 1, 2007, for use as a call center to replace the existing cumberland, maryland facility.   · \\xa0\\xa0\\xa0\\xa0\\xa0\\xa0\\xa0\\xa0\\xa0\\xa0\\xa0\\xa0\\xa0\\xa0\\xa0\\xa0\\xa0  in april 2007, the company signed a non-binding letter of intent to sell the infospherix subsidiary.\\xa0 the sale will allow spherix to focus all of its efforts on the biospherix division\\x92s biotechnology products, with the principal focus on the commercialization of naturlose.   11         item 3. \\xa0\\xa0\\xa0\\xa0\\xa0\\xa0\\xa0\\xa0\\xa0\\xa0  quantitative and qualitative disclosures about market risk   the company manages its debt and its available cash considering available investment opportunities and risks, tax consequences and overall financing strategies.   at march 31, 2007, the company did not have any fixed-rate or variable-rate indebtedness.\\xa0 the company has not entered into any interest rate swaps or other derivatives with respect to its indebtedness.   cash available for investment is typically invested in short term funds, which generally mature in 30 days, or money-market funds.\\xa0 in general, such funds are not subject to market risk because the interest paid on such funds fluctuates with the prevailing interest rate.\\xa0 the carrying amounts approximate market value.\\xa0 it is the company\\x92s practice to hold these investments to maturity.   assuming the march 31, 2007, variable rate debt and cash and cash available for investment, a one percent change in interest rates would impact net interest income by less than $100,000.   item 4. \\xa0\\xa0\\xa0\\xa0\\xa0\\xa0\\xa0\\xa0\\xa0\\xa0\\xa0\\xa0\\xa0\\xa0\\xa0\\xa0\\xa0\\xa0\\xa0\\xa0\\xa0\\xa0\\xa0\\xa0\\xa0  controls and procedures   disclosure controls and procedures. \\xa0 we maintain disclosure controls and procedures that are designed to ensure that information required to be disclosed in our exchange act reports, such as this report on form 10-q, is recorded, processed, summarized and reported within the time periods specified in the sec\\x92s rules and forms, and that such information is accumulated and communicated to our management, including our chief executive officer/chief financial officer, as appropriate, to allow timely decisions regarding required disclosure. these controls and procedures are based closely on the definition of \\x93disclosure controls and procedures\\x94 in rule\\xa013a-15(e) promulgated under the exchange act.\\xa0 rules adopted by the sec require that we present the conclusions of the chief executive officer/chief financial officer about the effectiveness of our disclosure controls and procedures as of the end of the period covered by this quarterly report.   limitations on the effectiveness of controls. \\xa0 management, including our chief executive officer/chief financial officer, do not expect that our disclosure controls and procedures will prevent all errors and fraud.\\xa0 in designing and evaluating the disclosure controls and procedures, management recognized that any controls and procedures, no matter how well designed and operated, can provide only reasonable, not absolute, assurance of achieving the desired control objectives.\\xa0 further, the design of a control system must reflect the fact that there are resource constraints, and management necessarily was required to apply its judgment in evaluating the cost-benefit relationship of possible controls and procedures.\\xa0 because of the inherent limitations in all control systems, no evaluation of controls can provide absolute assurance that all control issues and instances of fraud, if any, within the company have been detected.\\xa0 these inherent limitations include the realities that judgments in decision-making can be faulty, and that breakdowns can occur because of simple error or mistake.\\xa0 additionally, controls can be circumvented by the individual acts of some persons, by collusion of two or more people, or by management\\x92s override of the control.\\xa0 the design of any system of controls also is based in part upon certain assumptions about the likelihood of future events, and there can be no assurance that any design will succeed in achieving its stated goals under all potential future conditions.\\xa0 over time, controls may become inadequate because of changes in conditions, or the degree of compliance with the policies or procedures may deteriorate.\\xa0 because of the inherent limitations in a cost-effective control system, misstatements due to error or fraud may occur and not be detected.   periodic evaluation and conclusion.\\xa0 \\xa0 the company carried out an evaluation, under the supervision and with the participation of the company\\x92s management, including the company\\x92s chief executive officer/chief financial officer, of the effectiveness of the design and operation of the company\\x92s disclosure controls and procedures to provide reasonable assurance of achieving their objective pursuant to exchange act rule 13a-14. based upon that evaluation, the chief executive officer/chief financial officer concluded that the company\\x92s disclosure controls and procedures are effective at that reasonable assurance level.\\xa0 there were no significant changes in internal controls during the latest quarter over financial reporting that materially affected, or is reasonably likely to materially affect, internal controls over financial reporting.   12           part ii. \\xa0\\xa0\\xa0\\xa0\\xa0\\xa0\\xa0\\xa0\\xa0\\xa0\\xa0\\xa0\\xa0\\xa0\\xa0\\xa0\\xa0\\xa0\\xa0\\xa0\\xa0\\xa0\\xa0\\xa0  other information   item 1a. \\xa0\\xa0\\xa0\\xa0\\xa0\\xa0\\xa0\\xa0\\xa0\\xa0\\xa0\\xa0\\xa0\\xa0\\xa0\\xa0\\xa0\\xa0\\xa0  risk factors   in addition to the other information set forth in this report, you should carefully consider the factors discussed in part i, \\x93item 1a risk factors\\x94 in our form 10-k for the year ending december 31, 2006, which could materially affect our business, financial condition, and results of operations.\\xa0 the risks described in our form 10-k are not the only risks facing our company.\\xa0 additional risks and uncertainties not currently known to us or that we currently deem to be immaterial also may materially adversely affect our business, financial condition and/or operating results.   item 6. \\xa0\\xa0\\xa0\\xa0\\xa0\\xa0\\xa0\\xa0\\xa0\\xa0\\xa0\\xa0\\xa0\\xa0\\xa0\\xa0\\xa0\\xa0\\xa0\\xa0\\xa0\\xa0\\xa0\\xa0\\xa0  exhibits   31.1 \\xa0\\xa0\\xa0\\xa0\\xa0\\xa0\\xa0\\xa0\\xa0\\xa0\\xa0\\xa0\\xa0\\xa0  certification of chief executive officer and chief financial officer of spherix incorporated pursuant to section 302 of the sarbanes-oxley act of 2002   32.1 \\xa0\\xa0\\xa0\\xa0\\xa0\\xa0\\xa0\\xa0\\xa0\\xa0\\xa0\\xa0\\xa0\\xa0  certification of chief executive officer and chief financial officer of spherix incorporated pursuant to section 906 of the sarbanes-oxley act of 2002   signatures   pursuant to the requirements of the exchange act of 1934, the registrant has duly caused this report to be signed on its behalf by the undersigned, thereunto duly authorized.               \\xa0       \\xa0       spherix incorporated           \\xa0       \\xa0       \\xa0       (registrant)           \\xa0       \\xa0       \\xa0       \\xa0           \\xa0       \\xa0       \\xa0       \\xa0           date:       \\xa0       may 18, 2007       by:       /s/ richard c. levin           \\xa0       \\xa0       \\xa0       \\xa0       richard c. levin           \\xa0       \\xa0       \\xa0       \\xa0       chief executive officer, president,           \\xa0       \\xa0       \\xa0       \\xa0       and chief   financial officer         \\xa0   \\xa0   13             ex-31.1  2  a07-10901_2ex31d1.htm  ex-31.1      exhibit 31.1   certification of  chief executive officer and chief financial officer  pursuant to section 302 of the sarbanes-oxley act of 2002   i, richard c. levin, certify that:   1. \\xa0\\xa0\\xa0\\xa0\\xa0\\xa0\\xa0\\xa0\\xa0\\xa0\\xa0\\xa0\\xa0\\xa0  i have reviewed this quarterly report on form 10-q of spherix incorporated    2. \\xa0\\xa0\\xa0\\xa0\\xa0\\xa0\\xa0\\xa0\\xa0\\xa0\\xa0\\xa0\\xa0\\xa0  based on my knowledge, this quarterly report does not contain any untrue statement of a material fact or omit to state a material fact necessary to make the statements made, in light of the circumstances under which such statements were made, not misleading with respect to the period covered by this quarterly report    3. \\xa0\\xa0\\xa0\\xa0\\xa0\\xa0\\xa0\\xa0\\xa0\\xa0\\xa0\\xa0\\xa0\\xa0  based on my knowledge, the consolidated financial statements, and other financial information included in this quarterly report, fairly present in all material respects the financial condition, results of operations and cash flows of the registrant as of, and for, the periods presented in this quarterly report    4. \\xa0\\xa0\\xa0\\xa0\\xa0\\xa0\\xa0\\xa0\\xa0\\xa0\\xa0\\xa0\\xa0\\xa0  i am responsible for establishing and maintaining disclosure controls and procedures (as defined in exchange act rules 13a-15(e) and 15d-15(e)) for the registrant and have:   a) \\xa0\\xa0\\xa0\\xa0\\xa0\\xa0\\xa0\\xa0\\xa0\\xa0\\xa0\\xa0\\xa0  designed such disclosure controls and procedures, or caused such disclosure controls and procedures to be designed under our supervision, to ensure that material information relating to the registrant, including its consolidated subsidiaries, is made known to us by others within those entities, particularly during the period in which this quarterly report is being prepared    b) \\xa0\\xa0\\xa0\\xa0\\xa0\\xa0\\xa0\\xa0\\xa0\\xa0\\xa0\\xa0  evaluated the effectiveness of the registrant\\x92s disclosure controls and procedures and presented in this report our conclusions about the effectiveness of the disclosure controls and procedures as of the end of the period covered by this report based on such evaluation  and   c) \\xa0\\xa0\\xa0\\xa0\\xa0\\xa0\\xa0\\xa0\\xa0\\xa0\\xa0\\xa0\\xa0  disclosed in this report any change in the registrant\\x92s internal control over financial reporting that occurred during the registrant\\x92s most recent fiscal quarter (the registrant\\x92s fourth fiscal quarter in the case of an annual report) that has materially affected, or is reasonably likely to materially affect, the registrant\\x92s internal control over financial reporting  and   5. \\xa0\\xa0\\xa0\\xa0\\xa0\\xa0\\xa0\\xa0\\xa0\\xa0\\xa0\\xa0\\xa0\\xa0  i have disclosed, based on our most recent evaluation of internal control over financial reporting, to the registrant\\x92s auditors and the audit committee of registrant\\x92s board of directors (or persons performing the equivalent functions):   a) \\xa0\\xa0\\xa0\\xa0\\xa0\\xa0\\xa0\\xa0\\xa0\\xa0\\xa0\\xa0\\xa0  all significant deficiencies and material weaknesses in the design or operation of internal control over financial reporting which are reasonably likely to adversely affect the registrant\\x92s ability to record, process, summarize and report financial information  and   b) \\xa0\\xa0\\xa0\\xa0\\xa0\\xa0\\xa0\\xa0\\xa0\\xa0\\xa0\\xa0  any fraud, whether or not material, that involves management or other employees who have a significant role in the registrant\\x92s internal control over financial reporting.               \\xa0       /s/ richard c. levin           \\xa0       \\xa0       richard c. levin           \\xa0       \\xa0       ceo, president and cfo           \\xa0       \\xa0       may 18, 2007         \\xa0             ex-32.1  3  a07-10901_2ex32d1.htm  ex-32.1      exhibit 32.1   certification of  chief executive officer and chief financial officer  pursuant to section 906 of the sarbanes-oxley act of 2002   i, richard c. levin, chief executive officer, president and chief financial officer, of spherix incorporated (the \\x93company\\x94), in compliance with section 906 of the sarbanes-oxley act of 2002, hereby certify that, to the best of my knowledge, the company\\x92s quarterly report on form 10-q for the period ended march 31, 2007 (the \\x93report\\x94) filed with the securities and exchange commission:   · \\xa0\\xa0\\xa0\\xa0\\xa0\\xa0\\xa0\\xa0\\xa0\\xa0\\xa0\\xa0\\xa0\\xa0\\xa0\\xa0\\xa0  fully complies with the requirements of section 13(a) or 15(d) of the securities exchange act of 1934  and   · \\xa0\\xa0\\xa0\\xa0\\xa0\\xa0\\xa0\\xa0\\xa0\\xa0\\xa0\\xa0\\xa0\\xa0\\xa0\\xa0\\xa0  the information contained in the report fairly presents, in all material respects, the financial condition and results of operations of the company.               \\xa0       /s/ richard c. levin           \\xa0       \\xa0       richard c. levin           \\xa0       \\xa0       ceo, president and cfo           \\xa0       \\xa0       may 18, 2007         \\xa0   a signed copy of this written statement required by section 906 has been provided to spherix incorporated and will be retained by spherix incorporated and furnished to the securities and exchange commission or its staff upon request.   \\xa0            -----end privacy-enhanced message----- '"
      ]
     },
     "execution_count": 144,
     "metadata": {},
     "output_type": "execute_result"
    }
   ],
   "source": [
    "content"
   ]
  },
  {
   "cell_type": "code",
   "execution_count": 145,
   "metadata": {},
   "outputs": [],
   "source": [
    "content = re.sub('\\s+', ' ', content)"
   ]
  },
  {
   "cell_type": "code",
   "execution_count": 146,
   "metadata": {},
   "outputs": [
    {
     "data": {
      "text/plain": [
       "'-----begin privacy-enhanced message----- proc-type: 2001,mic-clear originator-name: webmaster@www.sec.gov originator-key-asymmetric: mfgwcgyevqgbaqicaf8dsgawrwjaw2snkk9avtbzyzmr6agjlwyk3xmzv3dtinen twsm7vrzladbmyqaionwg5sdw3p6oam5d3tdezxmm7z1t+b+twidaqab mic-info: rsa-md5,rsa, tnakpfjearmyw1v34+fems37qupgref3zmucfjlapdac4f5l/pqkdbbq7o5pg0q5 ftfdthezzow6is3onphnmw== 0001104659-07-041441.txt : 20070518 0001104659-07-041441.hdr.sgml : 20070518 20070518161211 accession number: 0001104659-07-041441 conformed submission type: 10-q public document count: 3 conformed period of report: 20070331 filed as of date: 20070518 date as of change: 20070518 filer: company data: company conformed name: spherix inc central index key: 0000012239 standard industrial classification: services-engineering, accounting, research, management [8700] irs number: 520849320 state of incorporation: de fiscal year end: 1231 filing values: form type: 10-q sec act: 1934 act sec file number: 000-05576 film number: 07864942 business address: street 1: 12051 indian creek ct city: beltsville state: md zip: 20705 business phone: 3014193900 mail address: street 1: 12051 indian creek court city: beltsville state: md zip: 20705 former company: former conformed name: biospherics inc date of name change: 19920703 former company: former conformed name: biospherics research inc date of name change: 19720404 10-q 1 a07-10901_210q.htm 10-q united states securities and exchange commission washington, d.c. 20549 form 10-q (mark one) x quarterly report pursuant to section 13 or 15(d) of the securities exchange act of 1934 for the quarterly period ended march 31, 2007 . o transition report pursuant to section 13 or 15(d) of the securities exchange act of 1934 for the transition period from ____________ to ____________ commission file number 0-5576 spherix incorporated (exact name of registrant as specified in its charter) delaware 52-0849320 (state or other jurisdiction of incorporation or organization) (i.r.s. employer identification no.) 12051 indian creek court, beltsville, maryland 20705 (address of principal executive offices) 301-419-3900 (registrant\\x92s telephone number, including area code) indicate by check mark whether the registrant (1) has filed all reports required to be filed by section 13 or 15(d) of the exchange act of 1934 during the preceding 12 months (or for such shorter period that the registrant was required to file such reports), and (2) has been subject to such filing requirements for the past 90 days. yes x no o indicate by check mark whether the registrant is a large accelerated filer, an accelerated filer, or a non-accelerated filer. see definition of \\x93accelerated filer and large accelerated filer\\x94 in rule 12b-2 of the exchange act. (check one): large accelerated filer o accelerated filer o non-accelerated filer x indicate by check mark whether the registrant is a shell company (as defined in rule 12b-2 of the exchange act). yes o no x indicate the number of shares outstanding of each of the registrant\\x92s classes of common stock, as of the latest practicable date. class outstanding as of may 9, 2007 common stock, $0.005 par value 14,254,562 shares spherix incorporated form 10-q for the quarter ended march 31, 2007 index page no. part i. financial information item 1. financial statements (unaudited) consolidated statements of operations for the three-month periods ended march 31, 2007 and 2006 3 consolidated balance sheets as of march 31, 2007 and december 31, 2006 4 consolidated statements of cash flows for the three-month periods ended march 31, 2007 and 2006 5 notes to the consolidated financial statements 6 item 2. management\\x92s discussion and analysis of financial condition and results of operations 8 item 3. quantitative and qualitative disclosures about market risk 12 item 4. controls and procedures 12 part ii. other information item 1a. risk factors 13 item 6. exhibits 13 signatures 13 2 spherix incorporated part i financial information item 1. financial statements consolidated statements of operations (unaudited) three months ended march 31, 2007 2006 revenue $ 5,347,172 $ 5,922,164 operating expense direct contract and operating costs 4,916,180 4,920,555 selling, general and administrative expense 1,410,223 1,429,944 research and development expense 1,399,603 104,751 total operating expense 7,726,006 6,455,250 loss from operations (2,378,834 ) (533,086 ) interest income 109,995 34,246 interest expenses 9,182 34,189 loss before taxes (2,278,021 ) (533,029 ) income tax expense 12,500 \\x97 net loss $ (2,290,521 ) $ (533,029 ) net loss per share, basic $ (0.16 ) $ (0.04 ) net loss per share, diluted $ (0.16 ) $ (0.04 ) weighted average shares outstanding, basic 13,996,759 12,982,950 weighted average shares outstanding, diluted 13,996,759 12,982,950 see accompanying notes to financial statements. 3 spherix incorporated consolidated balance sheets assets march 31, 2007 (unaudited) december 31, 2006 current assets cash and cash equivalents $ 9,882,630 $ 10,951,275 trade accounts receivable, net of allowance for doubtful accounts of $0 and $15,000 2,423,619 2,165,605 other receivables 75,916 13,759 prepaid expenses and other assets 969,525 643,461 total current assets 13,351,690 13,774,100 property and equipment, net 3,781,916 3,914,300 patents, net of accumulated amortization of $571,213 and $529,971 646,284 687,526 total assets $ 17,779,890 $ 18,375,926 liabilities and stockholders\\x92 equity current liabilities bank line of credit $ \\x97 $ \\x97 accounts payable and accrued expenses 2,790,084 1,535,543 accrued salaries and benefits 895,929 1,147,523 capital lease obligations 200,334 225,451 total current liabilities 3,886,347 2,908,517 capital lease obligations 106,026 138,748 deferred compensation 496,426 495,000 deferred rent 266,582 283,064 total liabilities 4,755,381 3,825,329 commitments and contingencies \\x97 \\x97 stockholders\\x92 equity preferred stock, $0.01 par value, 2,000,000 shares authorized none issued and outstanding \\x97 \\x97 common stock, $0.005 par value, 50,000,000 shares authorized 14,335,000 and 13,892,642 issued, and 14,254,562 and 13,812,204 shares outstanding at march 31, 2007 and december 31, 2006 71,496 69,463 paid-in capital in excess of par value 27,434,784 26,672,384 treasury stock, 80,438 shares at cost (464,786 ) (464,786 ) accumulated deficit (14,016,985 ) (11,726,464 ) total stockholders\\x92 equity 13,024,509 14,550,597 total liabilities and stockholders\\x92 equity $ 17,779,890 $ 18,375,926 see accompanying notes to financial statements. 4 spherix incorporated consolidated statements of cash flows (unaudited) three months ended march 31, 2007 2006 cash flows from operating activities net loss $ (2,290,521 ) $ (533,029 ) adjustments to reconcile net loss to net cash used in operating activities: depreciation and amortization 643,053 634,513 provision for uncollected accounts receivable (15,000 ) \\x97 stock-based compensation 6,933 11,229 changes in assets and liabilities: trade accounts receivable (243,014 ) (1,637,999 ) other receivables (62,157 ) 224,739 prepaid expenses and other assets (326,064 ) (84,828 ) accounts payable and accrued expenses 761,137 935,539 deferred rent (16,482 ) (7,550 ) deferred compensation 1,426 1,426 net cash used in operating activities (1,540,689 ) (455,960 ) cash flows from investing activities purchases of property and equipment (552,040 ) (476,519 ) net cash used in investing activities (552,040 ) (476,519 ) cash flows from financing activities net change on bank line of credit \\x97 38,278 net change in book overdraft 324,423 24,948 payments on capital lease obligations (57,839 ) (4,114 ) proceeds from issuance of common stock 757,500 2,665,164 net cash provided by financing activities 1,024,084 2,724,276 net (decrease) increase in cash and cash equivalents (1,068,645 ) 1,791,797 cash and cash equivalents, beginning of period 10,951,275 2,667,733 cash and cash equivalents, end of period $ 9,882,630 $ 4,459,530 see accompanying notes to financial statements. 5 spherix incorporated notes to the consolidated financial statements (unaudited) 1. basis of presentation on january 1, 2006, spherix transferred the assets of its infospherix division to a new wholly-owned subsidiary, infospherix incorporated (\\x93infospherix\\x94). the activities of the \\x93biospherix\\x94 division continue to operate through spherix incorporated. the consolidated financial statements include the accounts of both spherix incorporated and infospherix incorporated (collectively, the \\x93company\\x94). all intercompany balances and transactions have been eliminated. the accompanying consolidated financial statements of the company are unaudited and do not include all of the information and disclosures generally required for annual financial statements. in the opinion of management, the statements contain all material adjustments (consisting of normal recurring accruals) necessary to present fairly the company\\x92s financial position as of march 31, 2007, the results of its operations for the three-month periods ended march 31, 2007 and 2006, and its cash flows for the three-month periods ended march 31, 2007 and 2006. this report should be read in conjunction with the company\\x92s annual report on form 10-k, which does contain the complete information and disclosure for the year ended december 31, 2006. 2. use of estimates and assumptions the accompanying consolidated financial statements have been prepared in conformity with accounting principles generally accepted in the united states of america. this requires management to make estimates and assumptions that affect certain reported amounts of assets and liabilities and disclosures of contingent assets and liabilities at the date of the financial statements, and the reported amounts of revenue and expenses during the period. accordingly, actual results could differ from those estimates and assumptions. 3. net loss per share basic loss per common share has been computed by dividing net loss by the weighted-average number of common shares outstanding during the period. diluted net loss per common share has been computed by dividing net loss by the weighted-average number of common shares outstanding without an assumed increase in common shares outstanding for common stock equivalents, as common stock equivalents are antidilutive. common stock equivalents consist of stock options and warrants that are assumed likely to be exercised. common stock equivalents were 32,455 at march 31, 2006 and none at march 31, 2007. 4. stockholders\\x92 equity during the three months ended march 31, 2007, the company sold 442,358 shares for an additional $757,500 in proceeds under the july 22, 2005, standby equity distribution agreement (\\x93seda\\x94). at march 31, 2007, the remaining maximum amount available for future draws under the seda was $800,000. on march 9, 2006, in exchange for the company\\x92s agreement to reduce the exercise price to $2.04 per share, an institutional investor (\\x93the investor\\x94) agreed to exercise the remainder of its warrants for the purchase of 585,973 shares of common stock for total proceeds of approximately $1.2 million. in connection with these warrants, the investor agreed that it would not exercise any of the warrants to the extent that it would acquire shares of common stock exceeding 9.9% of the outstanding common stock, nor would it knowingly sell shares to anyone to the extent that their holdings in the company would exceed 4.9% of the outstanding common stock. the warrants and shares of common stock were issued in transactions exempt from registration pursuant to section 4(2) of the securities act. the company has registered the shares issuable upon exercise of the warrants for resale by the institutional investor. 6 5. accounting for stock-based compensation effective january 1, 2006, the company adopted statement of financial accounting standards no. 123(r) \\x93share-based payment\\x94 (fas 123r), which requires the measurement of all employee share-based payments to employees, including grants of employee stock options, using a fair-value based method and the recording of such expense in the consolidated statements of operations and comprehensive loss. the company uses a black-scholes option pricing model and has elected to use the modified prospective transition method and, therefore, has not restated results for prior periods. at the time the company adopted fas 123r, there were no unvested options outstanding. for the three months ended march 31, 2007 and 2006, the company recognized $6,933 and $3,466 in stock-based compensation expense relating to 59,000 stock options awarded in february 2006. the effect of adopting fas 123r for the three months ended march 31, 2007 and 2006, increased the loss from operations, the loss before taxes, and the net loss by $6,933 and $3,466 and had no effect on basic and diluted earnings per share, net cash flow from operations, or net cash flow from financing activities. a summary of option activity under the company\\x92s employee stock option plan for the three months ended march 31, 2007, is presented below: options shares weighted- average exercise price weighted- average remaining contractual term aggregate intrinsic value outstanding at december 31, 2006 501,000 $ 7.11 granted \\x97 \\x97 exercised \\x97 \\x97 expired or forfeited \\x97 \\x97 outstanding at march 31, 2007 501,000 $ 7.11 2.1 $ \\x97 exercisable at march 31, 2007 475,600 $ 7.37 2.0 $ \\x97 as of march 31, 2007, there were approximately 25,500 unvested options to purchase common stock under the plans. the total fair value of the unvested options was approximately $47,940. an estimated compensation cost of $79,722 related to these unvested options is expected to be recognized over the next three years. the company used the following assumptions in the black-scholes calculation used to measure the fair value of the february 2006 option awards in accordance with fas 123r. expected term (in years) 4 expected volatility 140.9% expected dividends 0% risk-free rate 4.6% 6. income tax the company adopted financial standards accounting board interpretation no. 48 accounting for uncertainty in income taxes (\\x93fin 48\\x94) on january 1, 2007. as a result of the implementation of fin 48, the company recognized no material adjustments. the company\\x92s policy is to recognize interest and penalties on tax liabilities as interest expense. at january 1, 2007 and march 31, 2007, the company had no unrecognized income tax benefits and recognized no interest or penalties on income tax liabilities. the federal and significant state statutes of limitations have not expired for the company\\x92s tax years ended december 31, 2003 through december 31, 2005. as such, each of these tax years remain subject to examination by taxing authorities. the federal and significant state statutes of limitations for the company\\x92s tax years ended december 31, 1998, december 31, 1999 and december 31, 2002 have expired however $10,217,142 of federal net operating loss 7 carryforwards generated in these closed years remain available to the company and are subject to adjustment prior to utilization in future tax years. 7. information by business segment the company operates via two principal segments, biospherix and infospherix. biospherix develops proprietary products for commercial applications. infospherix provides contact center information and reservation services for government and industry, with substantially all of infospherix revenue generated from government customers. revenue from reservation and tourism services is greatest in the spring and summer when vacation planning is the heaviest. revenue from other sources tends to be more evenly spread throughout the year, although the fourth quarter is historically the low period of the year. financial information by business segment for the three months ended march 31, 2007 and 2006 is summarized below: three months ended march 31, (dollars in thousands) 2007 2006 revenue infospherix $ 5,347 $ 5,919 biospherix \\x97 3 total revenue $ 5,347 $ 5,922 operating (loss) income infospherix $ (302 ) $ 137 and (loss) income before biospherix (2,077 ) (670 ) income taxes total operating loss (2,379 ) (533 ) interest income 110 34 interest expense 9 34 income (loss) from operations before income taxes $ (2,278 ) $ (533 ) identifiable assets infospherix $ 15,229 $ 11,282 biospherix 2,551 5,037 total assets $ 17,780 $ 16,319 8. subsequent event in april 2007, the company committed to a plan to sell the infospherix subsidiary and on april 17, 2007 signed a non-binding letter of intent to sell the infospherix. the sale will allow spherix to focus all of its efforts on the biospherix division\\x92s biotechnology products, with the principal focus on the commercialization of naturlose. the company is in negotiations regarding the terms of the sale and the sale is subject to several contingencies, including execution of a definitive agreement of sale, and approval of the transaction by the company\\x92s stockholders. the sale is expected to close by the end of the summer of 2007. the infospherix segment (see note 7) comprises the majority of the company\\x92s operations. item 2. management\\x92s discussion and analysis of financial condition and results of operations the following is intended to update the information contained in the company\\x92s annual report on form 10-k for the year ended december 31, 2006, and presumes that readers have access to, and will have read, \\x93management\\x92s discussion and analysis of financial condition and results of operations\\x94 contained in such form 10-k. certain statements in this quarterly report on form 10-q may contain forward-looking statements within the meaning of section 27a of the securities act of 1933 and section 21e of the securities exchange act of 1934 and are identified by the use of forward-looking words or phrases such as \\x93believes,\\x94 \\x93expects,\\x94 is or are \\x93expected,\\x94 \\x93anticipates,\\x94 \\x93anticipated,\\x94 \\x93should\\x94 and words of similar impact. these forward-looking statements are based on the 8 company\\x92s current expectations. because forward-looking statements involve risks and uncertainties, the company\\x92s actual results could differ materially. see the company\\x92s form 8-k filing dated march 26, 1999, for a more detailed statement concerning forward-looking statements. overview the company operates via two principal segments, biospherix and infospherix. biospherix develops proprietary products for commercial applications. infospherix provides contact center information and reservation services for government and industry, with substantially all of infospherix revenue generated from government customers. biospherix engages in product development, notably tagatose. the company\\x92s current focus is on the non-food use of tagatose, which we will market under the name \\x93naturlose\\x94. our principal efforts have been to explore whether naturlose is an effective treatment for type 2 diabetes. in april 2007, the company commenced a phase 3 trial for this purpose. infospherix has developed a niche in providing campground and other reservation services via its reserveworld business line and is one of only two major suppliers of campground reservation services in the u.s. reservation contracts make up over 50% of the company\\x92s revenue. the reservation services contracts have revenue streams that are historically greater in the spring and summer months when vacation planning is more prevalent. these reservation contracts have certain fixed costs that continue throughout the year such as depreciation, telephone and computer related service and maintenance contracts, and minimum staffing requirements. these contracts also incur certain costs in advance of the peak seasons in order to staff up and train the work force that will be needed during the peak seasons. on january 23, 2007, the company concluded its long-standing national park service contract. the national park service contract contributed approximately $4.0 million in revenue for each of the years ended december 31, 2006 and 2005, and $174,000 and $794,000 in revenue for the three months ended march 31, 2007 and 2006, respectively. in april 2007, the company committed to a plan to sell the infospherix subsidiary and on april 17, 2007 signed a non-binding letter of intent to sell the infospherix. the sale will allow spherix to focus all of its efforts on the biospherix division\\x92s biotechnology products, with the principal focus on the commercialization of naturlose. the company is in negotiations regarding the terms of the sale and the sale is subject to several contingencies, including execution of a definitive agreement of sale, and approval of the transaction by the company\\x92s stockholders. the sale is expected to close by the end of the summer of 2007. the infospherix segment (see note 7) comprises the majority of the company\\x92s operations. results of operations for the three months ended march 31, 2007 and 2006 revenue and direct contract and operating costs see \\x93infospherix\\x94 below. selling, general and administrative selling, general and administrative expenses for the three months ended march 31, 2007, were consistent with those of the same period of the prior year. the company\\x92s selling, general and administrative expenses consist primarily of executive management salaries and fringes, sales and marketing costs, finance and accounting, and human resources, as well as costs related to being a public company. research and development see \\x93biospherix\\x94 below. 9 interest interest income increased $101,000 between years as a direct result of the increased cash invested, principally generated by the $6 million settlement award with the department of agriculture in october 2006. three months ended march 31, 2007 2006 revenue $ 5,347,000 $ 5,919,000 direct cost and operating expense 4,916,000 4,921,000 gross margin $ 431,000 $ 998,000 infospherix revenue for the three months ended march 31, 2007, decreased $575,000 (9.7%) from the same period in 2006 due to the completion of the national park service contract, which concluded on january 23, 2007. reductions from the direct costs associated with the national park service contract were off-set by increased costs under the new michigan contract and additional costs incurred under the contracts transferred from the former south dakota facility to the new facility in indiana. the national park service contract contributed approximately $4.0 million in revenue for each of the years ended december 31, 2006 and 2005, and $174,000 and $794,000 in revenue for the three months ended march 31, 2007 and 2006, respectively. biospherix the primary focus of biospherix\\x92s research and development (r&d) activities for the three months ended march 31, 2007, has been on the planning and preparation of a phase 3 clinical trial in the use of naturlose for the treatment of type 2 diabetes. the company has completed a dose range-finding study, and the recruitment of patients for the trial, which will take place in australia and the united states, is on-going. the first participants began the phase 3 clinical trial in april 2007. more than 400 subjects from the united states and abroad, representing the demographic mix in the u.s., will receive oral doses of naturlose to test its ability to treat type 2 diabetes. a phase 3 clinical trial, which gathers evidence regarding effectiveness and safety, is needed to evaluate the overall benefit-risk relationship of new drugs proposed to the fda. the company believes its chances for a successful outcome are enhanced by the widely demonstrated safety of the product, lack of safety being the primary cause for failure of most drug candidates. in 2005, the company contracted with the university of maryland school of dentistry to conduct a human clinical trial on the oral anti-plaque efficacy of naturlose. the study demonstrated tagatose to be much more resistant to oral bacteria, which form plaque, than is sorbitol, a sugar substitute that is widely used in oral care products. the study suggested ways of modifying the naturlose product to effect desired plaque reduction. such modifications have been made, and the company has arranged with the university of maryland school of dentistry to conduct a trial of naturlose toothpaste formulated by the company in an attempt to establish an anti-plaque claim for the toothpaste. the clinical trial started in early 2007. in the first quarter of 2007, the company expended $1.4 million in furtherance of its biospherix r&d activities, as compared to $105,000 in the first quarter of 2006. the increased level of expenditures is primarily attributable to the phase 3 trial. liquidity and capital resources, consolidated on march 31, 2006, the company entered into a new agreement with bank of america (\\x93the bank\\x94) to establish a line-of-credit (\\x93new agreement\\x94) for its subsidiary, infospherix incorporated, with the outstanding borrowings under the old line of credit transferred to the new agreement. the new agreement, which matures june 30, 2008, provides for borrowings up to $1.5 million, is collateralized by the subsidiary\\x92s accounts receivables and equipment, and contains covenants on tangible net worth and funded debt to ebitda ratios. such covenants could have a limiting effect on the amount of cash that the subsidiary can advance to spherix. the interest rate under the agreement is based on the libor daily floating rate plus 3% (approximately 8.5% at march 31, 2007). the company had no outstanding borrowings under the agreement at march 31, 2007, and the total amount available for future advances to the subsidiary was $1.5 million under the agreement. 10 working capital as of march 31, 2007, was $9.5 million, which represents a $1.4 million decrease from working capital of $10.9 million at december 31, 2006. the decrease in working capital was largely related to the company\\x92s phase 3 clinical trial costs. spherix expects to expend up to $5 million over the next year in costs related to the phase 3 clinical trial and other r&d activity. the clinical trial is expected to take at least two years to complete. the company intends to finance the biospherix activities through spherix\\x92s cash reserves, proceeds from the issuance of common stock, and proceeds from the sale of the infospherix subsidiary. the company also intends to seek pharmaceutical partners to assist in completing development of the biospherix products. infospherix incorporated intends to finance its furniture and equipment needs through financing or leasing arrangements where practicable, including those related to the start-up costs of new contracts the company may win. cash flow for the three months ended march 31, 2007, reflects a net cash outflow of $1.1 million, consisting of $1.5 million used in operating activities, $552,000 used in investing activities, and $1 million provided by financing activities. the increase in cash used by operating activities in 2007 from that of the prior year is primarily related to the cost of the phase 3 clinical trial. cash used in investing activities was consistent with that of the prior year. cash flows from financing activities in 2006 included proceeds from the issuance of warrants. trends and outlooks biospherix · biospherix\\x92s primary emphasis is on a phase 3 clinical trial to demonstrate that naturlose is a successful treatment for type 2 diabetes. the first participants have already been enrolled and the trial began in april 2007. · costs of conducting the phase 3 trial have substantially increased as we have obtained further direction from the fda concerning the processes to be employed in the trial. the company expects to spend up to $5 million in r&d costs over the next year. the company intends to use the proceeds from the sale of the infospherix subsidiary to fund the phase 3 trial. if the sale is not concluded, the company will need to reassess continuation of the tests in view of the increased costs of the tests and the expected follow on costs in pursuit of fda approval. infospherix · the company concluded the national park service contract on january 23, 2007. the national park service contract contributed approximately $4 million in revenue for each of the years ended december 31, 2006 and 2005. the loss of the national park service contract will have an adverse effect on the company\\x92s financial results in comparison to the prior year. · since 1998, infospherix has grown its government park reservation business from one contract to 17 government reservation contracts. infospherix\\x92s reservation business accounted for over 60% of the company\\x92s revenue in 2006 and 2005, and over 50% for the three months ended march 31, 2007. infospherix is now one of only two major suppliers of government campground reservation services in the u.s. · on february 6, 2007, the company signed an agreement to lease 32,423 square feet of facility space in frostburg, maryland effective december 1, 2007, for use as a call center to replace the existing cumberland, maryland facility. · in april 2007, the company signed a non-binding letter of intent to sell the infospherix subsidiary. the sale will allow spherix to focus all of its efforts on the biospherix division\\x92s biotechnology products, with the principal focus on the commercialization of naturlose. 11 item 3. quantitative and qualitative disclosures about market risk the company manages its debt and its available cash considering available investment opportunities and risks, tax consequences and overall financing strategies. at march 31, 2007, the company did not have any fixed-rate or variable-rate indebtedness. the company has not entered into any interest rate swaps or other derivatives with respect to its indebtedness. cash available for investment is typically invested in short term funds, which generally mature in 30 days, or money-market funds. in general, such funds are not subject to market risk because the interest paid on such funds fluctuates with the prevailing interest rate. the carrying amounts approximate market value. it is the company\\x92s practice to hold these investments to maturity. assuming the march 31, 2007, variable rate debt and cash and cash available for investment, a one percent change in interest rates would impact net interest income by less than $100,000. item 4. controls and procedures disclosure controls and procedures. we maintain disclosure controls and procedures that are designed to ensure that information required to be disclosed in our exchange act reports, such as this report on form 10-q, is recorded, processed, summarized and reported within the time periods specified in the sec\\x92s rules and forms, and that such information is accumulated and communicated to our management, including our chief executive officer/chief financial officer, as appropriate, to allow timely decisions regarding required disclosure. these controls and procedures are based closely on the definition of \\x93disclosure controls and procedures\\x94 in rule 13a-15(e) promulgated under the exchange act. rules adopted by the sec require that we present the conclusions of the chief executive officer/chief financial officer about the effectiveness of our disclosure controls and procedures as of the end of the period covered by this quarterly report. limitations on the effectiveness of controls. management, including our chief executive officer/chief financial officer, do not expect that our disclosure controls and procedures will prevent all errors and fraud. in designing and evaluating the disclosure controls and procedures, management recognized that any controls and procedures, no matter how well designed and operated, can provide only reasonable, not absolute, assurance of achieving the desired control objectives. further, the design of a control system must reflect the fact that there are resource constraints, and management necessarily was required to apply its judgment in evaluating the cost-benefit relationship of possible controls and procedures. because of the inherent limitations in all control systems, no evaluation of controls can provide absolute assurance that all control issues and instances of fraud, if any, within the company have been detected. these inherent limitations include the realities that judgments in decision-making can be faulty, and that breakdowns can occur because of simple error or mistake. additionally, controls can be circumvented by the individual acts of some persons, by collusion of two or more people, or by management\\x92s override of the control. the design of any system of controls also is based in part upon certain assumptions about the likelihood of future events, and there can be no assurance that any design will succeed in achieving its stated goals under all potential future conditions. over time, controls may become inadequate because of changes in conditions, or the degree of compliance with the policies or procedures may deteriorate. because of the inherent limitations in a cost-effective control system, misstatements due to error or fraud may occur and not be detected. periodic evaluation and conclusion. the company carried out an evaluation, under the supervision and with the participation of the company\\x92s management, including the company\\x92s chief executive officer/chief financial officer, of the effectiveness of the design and operation of the company\\x92s disclosure controls and procedures to provide reasonable assurance of achieving their objective pursuant to exchange act rule 13a-14. based upon that evaluation, the chief executive officer/chief financial officer concluded that the company\\x92s disclosure controls and procedures are effective at that reasonable assurance level. there were no significant changes in internal controls during the latest quarter over financial reporting that materially affected, or is reasonably likely to materially affect, internal controls over financial reporting. 12 part ii. other information item 1a. risk factors in addition to the other information set forth in this report, you should carefully consider the factors discussed in part i, \\x93item 1a risk factors\\x94 in our form 10-k for the year ending december 31, 2006, which could materially affect our business, financial condition, and results of operations. the risks described in our form 10-k are not the only risks facing our company. additional risks and uncertainties not currently known to us or that we currently deem to be immaterial also may materially adversely affect our business, financial condition and/or operating results. item 6. exhibits 31.1 certification of chief executive officer and chief financial officer of spherix incorporated pursuant to section 302 of the sarbanes-oxley act of 2002 32.1 certification of chief executive officer and chief financial officer of spherix incorporated pursuant to section 906 of the sarbanes-oxley act of 2002 signatures pursuant to the requirements of the exchange act of 1934, the registrant has duly caused this report to be signed on its behalf by the undersigned, thereunto duly authorized. spherix incorporated (registrant) date: may 18, 2007 by: /s/ richard c. levin richard c. levin chief executive officer, president, and chief financial officer 13 ex-31.1 2 a07-10901_2ex31d1.htm ex-31.1 exhibit 31.1 certification of chief executive officer and chief financial officer pursuant to section 302 of the sarbanes-oxley act of 2002 i, richard c. levin, certify that: 1. i have reviewed this quarterly report on form 10-q of spherix incorporated 2. based on my knowledge, this quarterly report does not contain any untrue statement of a material fact or omit to state a material fact necessary to make the statements made, in light of the circumstances under which such statements were made, not misleading with respect to the period covered by this quarterly report 3. based on my knowledge, the consolidated financial statements, and other financial information included in this quarterly report, fairly present in all material respects the financial condition, results of operations and cash flows of the registrant as of, and for, the periods presented in this quarterly report 4. i am responsible for establishing and maintaining disclosure controls and procedures (as defined in exchange act rules 13a-15(e) and 15d-15(e)) for the registrant and have: a) designed such disclosure controls and procedures, or caused such disclosure controls and procedures to be designed under our supervision, to ensure that material information relating to the registrant, including its consolidated subsidiaries, is made known to us by others within those entities, particularly during the period in which this quarterly report is being prepared b) evaluated the effectiveness of the registrant\\x92s disclosure controls and procedures and presented in this report our conclusions about the effectiveness of the disclosure controls and procedures as of the end of the period covered by this report based on such evaluation and c) disclosed in this report any change in the registrant\\x92s internal control over financial reporting that occurred during the registrant\\x92s most recent fiscal quarter (the registrant\\x92s fourth fiscal quarter in the case of an annual report) that has materially affected, or is reasonably likely to materially affect, the registrant\\x92s internal control over financial reporting and 5. i have disclosed, based on our most recent evaluation of internal control over financial reporting, to the registrant\\x92s auditors and the audit committee of registrant\\x92s board of directors (or persons performing the equivalent functions): a) all significant deficiencies and material weaknesses in the design or operation of internal control over financial reporting which are reasonably likely to adversely affect the registrant\\x92s ability to record, process, summarize and report financial information and b) any fraud, whether or not material, that involves management or other employees who have a significant role in the registrant\\x92s internal control over financial reporting. /s/ richard c. levin richard c. levin ceo, president and cfo may 18, 2007 ex-32.1 3 a07-10901_2ex32d1.htm ex-32.1 exhibit 32.1 certification of chief executive officer and chief financial officer pursuant to section 906 of the sarbanes-oxley act of 2002 i, richard c. levin, chief executive officer, president and chief financial officer, of spherix incorporated (the \\x93company\\x94), in compliance with section 906 of the sarbanes-oxley act of 2002, hereby certify that, to the best of my knowledge, the company\\x92s quarterly report on form 10-q for the period ended march 31, 2007 (the \\x93report\\x94) filed with the securities and exchange commission: · fully complies with the requirements of section 13(a) or 15(d) of the securities exchange act of 1934 and · the information contained in the report fairly presents, in all material respects, the financial condition and results of operations of the company. /s/ richard c. levin richard c. levin ceo, president and cfo may 18, 2007 a signed copy of this written statement required by section 906 has been provided to spherix incorporated and will be retained by spherix incorporated and furnished to the securities and exchange commission or its staff upon request. -----end privacy-enhanced message----- '"
      ]
     },
     "execution_count": 146,
     "metadata": {},
     "output_type": "execute_result"
    }
   ],
   "source": [
    "content"
   ]
  },
  {
   "cell_type": "code",
   "execution_count": 147,
   "metadata": {},
   "outputs": [],
   "source": [
    "with open('test.txt', 'w+') as f:\n",
    "    \n",
    "    f.write(content)"
   ]
  },
  {
   "cell_type": "code",
   "execution_count": 127,
   "metadata": {},
   "outputs": [],
   "source": [
    "def extract_sections(text):\n",
    "    #qqdmr\n",
    "    \n",
    "    qqdmr_text = re.findall(r'(\\sitem\\s\\d\\w?\\.\\squantitative\\sand\\squalitative\\sdisclosures\\sabout\\smarket\\srisk\\s)(.*)(item\\s\\d\\w?\\.)',text)\n",
    "    \n",
    "    if len(qqdmr_text) == 0:\n",
    "        print('qqdmr case 2')\n",
    "        qqdmr_text = re.findall(r'(\\sitem\\s\\d\\w?\\.\\squantitative\\sand\\squalitative\\sdisclosures\\sabout\\smarket\\srisk\\s)(.*)(-----end privacy-enhanced message-----)',text)\n",
    "        \n",
    "        if len(qqdmr_text) == 0:\n",
    "            qqdmr_text = 'None'\n",
    "        \n",
    "    #mda\n",
    "    \n",
    "    mda_text = re.findall(r'(\\sitem\\s\\d\\w?\\.\\smanagement\\ss\\sdiscussion\\sand\\sanalysis\\s)(.*)(item\\s\\d\\w?\\.)', text)\n",
    "    \n",
    "    if len(mda_text) == 0:\n",
    "        print('mda case 2')\n",
    "        mda_text = re.findall(r'(\\sitem\\s\\d\\w?\\.\\smanagement\\ss\\sdiscussion\\sand\\sanalysis\\s)(.*)(-----end privacy-enhanced message-----)', text)\n",
    "        \n",
    "        if len(mda_text) == 0: \n",
    "            mda_text = 'None'\n",
    "        \n",
    "    #rf\n",
    "    \n",
    "    rf_text = re.findall(r'(\\sitem\\s\\d\\w?\\.\\srisk\\sfactors\\s)(.*)(item\\s\\d\\w?\\.)', text)\n",
    "    \n",
    "    if len(rf_text) == 0:\n",
    "        print('rf case 2')\n",
    "        rf_text = re.findall(r'(\\sitem\\s\\d\\w?\\.\\srisk\\sfactors\\s)(.*)(-----end privacy-enhanced message-----)', text)\n",
    "        \n",
    "        if len(rf_text) == 0:\n",
    "            rf_text = 'None'\n",
    "        \n",
    "    return (mda_text, qqdmr_text, rf_text)"
   ]
  },
  {
   "cell_type": "code",
   "execution_count": 128,
   "metadata": {},
   "outputs": [
    {
     "name": "stdout",
     "output_type": "stream",
     "text": [
      "qqdmr case 2\n",
      "mda case 2\n",
      "rf case 2\n"
     ]
    }
   ],
   "source": [
    "a,b,c = extract_sections(content)"
   ]
  },
  {
   "cell_type": "code",
   "execution_count": 131,
   "metadata": {},
   "outputs": [
    {
     "data": {
      "text/plain": [
       "'None'"
      ]
     },
     "execution_count": 131,
     "metadata": {},
     "output_type": "execute_result"
    }
   ],
   "source": [
    "c"
   ]
  },
  {
   "cell_type": "code",
   "execution_count": 24,
   "metadata": {},
   "outputs": [
    {
     "data": {
      "text/plain": [
       "'of financial condition and results of operations the following is intended to update the information contained in the company s annual report on form 10-k for the year ended december 31, 2006, and presumes that readers have access to, and will have read, management s discussion and analysis of financial condition and results of operations contained in such form 10-k. certain statements in this quarterly report on form 10-q may contain forward-looking statements within the meaning of section 27a of the securities act of 1933 and section 21e of the securities exchange act of 1934 and are identified by the use of forward-looking words or phrases such as believes, expects, is or are expected, anticipates, anticipated, should and words of similar impact. these forward-looking statements are based on the company s current expectations. because forward-looking statements involve risks and uncertainties, the company s actual results could differ materially. see the company s form 8-k filing dated march 26, 1999, for a more detailed statement concerning forward-looking statements. the company operates via two principal segments, biospherix and infospherix. biospherix develops proprietary products for commercial applications. infospherix provides contact center information and reservation services for government and industry, with substantially all of infospherix revenue generated from government customers. biospherix engages in product development, notably tagatose. the company s current focus is on the non-food use of tagatose, which we will market under the name naturlose . our principal efforts have been to explore whether naturlose is an effective treatment for type 2 diabetes. in april 2007, the company commenced a phase 3 trial for this purpose. infospherix has developed a niche in providing campground and other reservation services via its reserveworld business line and is one of only two major suppliers of campground reservation services in the u.s. reservation contracts make up over 50% of the company s revenue. the reservation services contracts have revenue streams that are historically greater in the spring and summer months when vacation planning is more prevalent. these reservation contracts have certain fixed costs that continue throughout the year such as depreciation, telephone and computer related service and maintenance contracts, and minimum staffing requirements. these contracts also incur certain costs in advance of the peak seasons in order to staff up and train the work force that will be needed during the peak seasons. on january 23, 2007, the company concluded its long-standing national park service contract. the national park service contract contributed approximately $4.0 million in revenue for each of the years ended december 31, 2006 and 2005. on june 25, 2007, the company signed a definitive purchase agreement to sell the infospherix subsidiary, subject to shareholder approval. the sale will allow spherix to focus all of its efforts on the biospherix division s biotechnology products, with the principal focus on the commercialization of naturlose. the sale is subject to the approval of the company s stockholders and, if ratified, must be completed within two days of the company s august 15, 2007 annual meeting. the operations of infospherix are reported in the accompanying financial statements as discontinued operations. results of operations for the three and six months ended june 30, 2007 and 2006 selling, general and administrative selling, general and administrative expenses (s,g&amp a) for the three and six months ended june 30, 2007, increased $386,000 and $494,000 over those of the same periods in 2006. the increase in the second quarter was primarily the result of an executive bonus of $150,000 awarded to the ceo for past performance, and an increase in accounting costs of approximately $120,000 related to the increased complexity of the company s tax reporting requirements including the implementation of fin 48. the increase in s,g&amp a costs for the six months ended june 30, 2007 over those of the prior year also included approximately $120,000 in costs related to the services of an investment banker prior to the company s decision to sell infospherix. excluded from the above s,g&amp a numbers is approximately $170,000 in consulting and legal costs related to the sale of infospherix that have been classified as part of the costs of the discontinued operations. these costs were incurred in the second quarter of 2007, following the decision to sell infospherix. research and development the company s r&amp d expenditures have significantly increased between years as a direct result of the company s phase 3 clinical trial in the use of naturlose for the treatment of type 2 diabetes, which began this year. the primary focus of biospherix s research and development (r&amp d) activities for the six months ended june 30, 2007, has been on the planning and preparation of a phase 3 trial. the company has completed an initial dose range-finding study, and the recruitment of patients for the trial, which will take place in australia and the united states, is ongoing. the first participants began the phase 3 clinical trial in april 2007. more than 400 subjects from the united states and abroad, representing the demographic mix in the u.s., will receive oral doses of naturlose to test its ability to treat type 2 diabetes. a phase 3 clinical trial, which gathers evidence regarding effectiveness and safety, is needed to evaluate the overall benefit-risk relationship of new drugs proposed to the fda. the company believes its chances for a successful outcome are enhanced by the widely demonstrated safety of the product, lack of safety being the primary cause for failure of most drug candidates. testing is scheduled to finish in mid-2009. if the trial is successful, it will likely take several months to compile the data and submit a new drug application ( nda ) to the fda. the fda will then likely take up to a year to respond to the nda. accordingly, we do not expect fda approval before mid-2010 at the earliest. in 2005, the company contracted with the university of maryland school of dentistry to conduct a human clinical trial on the oral anti-plaque efficacy of naturlose. the study demonstrated tagatose to be much more resistant to oral bacteria, which form plaque, than is sorbitol, a sugar substitute that is widely used in oral care products. the study suggested ways of modifying the naturlose product to effect desired plaque reduction. such modifications have been made, and the company has arranged with the university of maryland school of dentistry to conduct a trial of naturlose toothpaste formulated by the company in an attempt to establish an anti-plaque and anti-gingivitis claim for the toothpaste. the clinical trial started in early 2007. direct cost and operating expense revenue for the three and six months ended june 30, 2007, decreased $1.1 million (14%) and $1.7 million (12%) from the same periods in 2006 due to the completion of the national park service contract, which concluded on january 23, 2007. reductions from the direct costs associated with the national park service contract were off-set by increased costs under the new michigan contract and additional costs incurred under the contracts transferred from the former south dakota facility to the new facility in indiana. the national park service contract contributed approximately $4.0 million in revenue for each of the years ended december 31, 2006 and 2005. liquidity and capital resources, consolidated on june 25, 2007, as part of the definitive purchase agreement to sell infospherix, the company agreed to terminate the infospherix line-of-credit with bank of america ( the bank ) prior to closing. accordingly, the company subsequently closed the line-of-credit with the bank. the infospherix bank line-of-credit was established on march 31, 2006. the line-of-credit provided for borrowings up to $1.5 million, was collateralized by the subsidiary s accounts receivables and equipment, and contained covenants on tangible net worth and funded debt to ebitda ratios. the interest rate under the agreement was based on the libor daily floating rate plus 3% (approximately 8.5% at june 30, 2007). the company had no outstanding borrowings under the agreement at june 30, 2007, and the total amount available for future advances to the subsidiary was $1.5 million under the agreement. working capital as of june 30, 2007, was $7.8 million, which represents a $3.1 million decrease from working capital of $10.9 million at december 31, 2006. the decrease in working capital was largely related to the company s phase 3 clinical trial costs and increased costs related to the anticipated sale of infospherix. spherix expects to expend up to $5 million over the next year in costs related to the phase 3 clinical trial and other r&amp d activity. the clinical trial is expected to take at least two years to complete. the company intends to finance the biospherix activities through proceeds from the sale of the infospherix subsidiary and proceeds from possible future issuance of additional common stock. the company also intends to seek pharmaceutical partners to assist in completing development of the biospherix products. cash flow for the six months ended june 30, 2007, reflects a net cash outflow of $2.8 million, consisting of $2.4 million used in operating activities, $1.2 million used in investing activities, and $768,000 provided by financing activities. the increase in cash used by operating activities in 2007 from that of the prior year is primarily related to the cost of the phase 3 clinical trial. the change in cash used in investing activities is related to one-time proceeds of $2 million from the maturity of a certificate of deposit in the prior year. cash flows from financing activities in 2006 included proceeds from the issuance of warrants. trends and outlooks on june 25, 2007, the company signed a definitive purchase agreement to sell the infospherix subsidiary, subject to shareholder approval, for $17 million ($15 million at closing and $2 million following a 15-month escrow period). the sale will allow spherix to focus all of its efforts on the biospherix division s biotechnology products. biospherix s primary emphasis is on a phase 3 clinical trial to demonstrate that naturlose is a successful treatment for type 2 diabetes. the trial began in april 2007, and testing is scheduled to finish in mid-2009. if the trial is successful, it will likely take several months to compile the data and submit a new drug application ( nda ) to the fda. the fda will then likely take up to a year to respond to the nda. accordingly, we do not expect fda approval before mid-to-late 2010 at the earliest. the company has decided to conduct the entire phase 3 clinical trial for type 2 diabetes in the united states and according has terminating the australian trials. the change is intended to simplify the logistics of managing the trial. costs of conducting the phase 3 trial have substantially increased as we have obtained further direction from the fda concerning the processes to be employed in the trial. the company expects to spend up to $5 million in r&amp d costs over the next year. the company intends to use the proceeds from the sale of the infospherix subsidiary to fund the phase 3 trial. if the sale is not concluded, the company will need to reassess continuation of the tests in view of the increased costs of the tests and the expected follow-on costs in pursuit of fda approval. a human clinical trial on the oral anti-plaque efficacy of naturlose was conducted by the company at the university of maryland school of dentistry. the trial started in early 2007 and was completed in july. the company expects to receive the results later this year. spherix has subsequently launched a health sciences consulting business line to provide technical and regulatory consulting services to biotechnology and pharmaceutical companies. as noted above, on june 25, 2007, the company signed a definitive purchase agreement to sell the infospherix subsidiary, subject to shareholder approval, for $17 million ($15 million at closing and $2 million following a 15-month escrow period). the company concluded the national park service contract on january 23, 2007. the national park service contract contributed approximately $4 million in revenue for each of the years ended december 31, 2006 and 2005. the loss of the national park service contract will have an adverse effect on the company s financial results in comparison to the prior year. since 1998, infospherix has grown its government park reservation business from one contract to 17 government reservation contracts. infospherix s reservation business accounted for over 60% of the company s revenue in 2006 and 2005, and over 50% for the three months ended march 31, 2007. infospherix is now one of only two major suppliers of government campground reservation services in the u.s. on february 6, 2007, infospherix signed an agreement to lease 32,423 square feet of facility space in frostburg, maryland effective december 1, 2007, for use as a call center to replace the existing cumberland, maryland facility. in august 2007, infospherix signed a ten-year lease to rent 13,338 square feet of facility space in clarksburg, maryland, for use as an administrative office for infospherix. the target commencement date for the new lease is november 1, 2007. in connection with the signing of the above lease, spherix also signed a lease termination agreement on its beltsville facility. under the lease termination agreement, spherix will pay a termination fee of $475,000 and the termination date is to be effective with the commencement of the clarksburg lease. the company will cease to have any continuing obligations under the frostburg, maryland, or clarksburg, maryland, leases upon completion of the sale of infospherix. the company will relocate to a smaller facility upon termination of the beltsville lease. item 3. quantitative and qualitative disclosures about market risk the company manages its debt and its available cash considering available investment opportunities and risks, tax consequences and overall financing strategies. at june 30, 2007, the company did not have any fixed-rate or variable-rate indebtedness. the company has not entered into any interest rate swaps or other derivatives with respect to its indebtedness. cash available for investment is typically invested in short term funds, which generally mature in 30 days, or money-market funds. in general, such funds are not subject to market risk because the interest paid on such funds fluctuates with the prevailing interest rate. the carrying amounts approximate market value. it is the company s practice to hold these investments to maturity. assuming the june 30, 2007, variable rate debt and cash and cash available for investment, a one-percent change in interest rates would impact net interest income by less than $100,000. item 4. controls and procedures disclosure controls and procedures. we maintain disclosure controls and procedures that are designed to ensure that information required to be disclosed in our exchange act reports, such as this report on form 10-q, is recorded, processed, summarized and reported within the time periods specified in the sec s rules and forms, and that such information is accumulated and communicated to our management, including our chief executive officer/chief financial officer, as appropriate, to allow timely decisions regarding required disclosure. these controls and procedures are based closely on the definition of disclosure controls and procedures in rule 13a-15(e) promulgated under the exchange act. rules adopted by the sec require that we present the conclusions of the chief executive officer/chief financial officer about the effectiveness of our disclosure controls and procedures as of the end of the period covered by this quarterly report. limitations on the effectiveness of controls. management, including our chief executive officer/chief financial officer, do not expect that our disclosure controls and procedures will prevent all errors and fraud. in designing and evaluating the disclosure controls and procedures, management recognized that any controls and procedures, no matter how well designed and operated, can provide only reasonable, not absolute, assurance of achieving the desired control objectives. further, the design of a control system must reflect the fact that there are resource constraints, and management necessarily was required to apply its judgment in evaluating the cost-benefit relationship of possible controls and procedures. because of the inherent limitations in all control systems, no evaluation of controls can provide absolute assurance that all control issues and instances of fraud, if any, within the company have been detected. these inherent limitations include the realities that judgments in decision-making can be faulty, and that breakdowns can occur because of simple error or mistake. additionally, controls can be circumvented by the individual acts of some persons, by collusion of two or more people, or by management s override of the control. the design of any system of controls also is based in part upon certain assumptions about the likelihood of future events, and there can be no assurance that any design will succeed in achieving its stated goals under all potential future conditions. over time, controls may become inadequate because of changes in conditions, or the degree of compliance with the policies or procedures may deteriorate. because of the inherent limitations in a cost-effective control system, misstatements due to error or fraud may occur and not be detected. periodic evaluation and conclusion. the company carried out an evaluation, under the supervision and with the participation of the company s management, including the company s chief executive officer/chief financial officer, of the effectiveness of the design and operation of the company s disclosure controls and procedures to provide reasonable assurance of achieving their objective pursuant to exchange act rule 13a-14. based upon that evaluation, the chief executive officer/chief financial officer concluded that the company s disclosure controls and procedures are effective at that reasonable assurance level. there were no significant changes in internal controls during the latest quarter over financial reporting that materially affected, or is reasonably likely to materially affect, internal controls over financial reporting. part ii. other information '"
      ]
     },
     "execution_count": 24,
     "metadata": {},
     "output_type": "execute_result"
    }
   ],
   "source": []
  },
  {
   "cell_type": "code",
   "execution_count": null,
   "metadata": {},
   "outputs": [],
   "source": [
    "# with open('test.txt', 'w+') as f:\n",
    "    \n",
    "#     f.write(content)"
   ]
  },
  {
   "cell_type": "markdown",
   "metadata": {},
   "source": [
    "item 1a. risk factors - item 2.\n",
    "\n",
    "item 2. management s discussion and analysis - "
   ]
  },
  {
   "cell_type": "code",
   "execution_count": null,
   "metadata": {
    "scrolled": true
   },
   "outputs": [],
   "source": [
    "dd_rf = re.findall(r'(\\sitem\\s\\d\\w?\\.\\srisk\\sfactors\\s)(.*)(item\\s\\d\\w?\\. |(-----end privacy-enhanced message-----))', content)"
   ]
  },
  {
   "cell_type": "code",
   "execution_count": null,
   "metadata": {},
   "outputs": [],
   "source": [
    "dd_mda = re.findall(r'(\\sitem\\s\\d\\w?\\.\\smanagement\\ss\\sdiscussion\\sand\\sanalysis\\s)(.*)(item\\s\\d\\w?\\.)', content)"
   ]
  },
  {
   "cell_type": "code",
   "execution_count": null,
   "metadata": {},
   "outputs": [],
   "source": [
    "dd_mda"
   ]
  },
  {
   "cell_type": "code",
   "execution_count": null,
   "metadata": {},
   "outputs": [],
   "source": [
    "len(dd)"
   ]
  },
  {
   "cell_type": "code",
   "execution_count": null,
   "metadata": {},
   "outputs": [],
   "source": [
    "dd[0][1]"
   ]
  },
  {
   "cell_type": "code",
   "execution_count": null,
   "metadata": {},
   "outputs": [],
   "source": [
    "content = re.sub(r'(-----BEGIN PRIVACY-ENHANCED MESSAGE-----)|(-----END PRIVACY-ENHANCED MESSAGE-----)', '', content)"
   ]
  },
  {
   "cell_type": "code",
   "execution_count": null,
   "metadata": {},
   "outputs": [],
   "source": [
    "content"
   ]
  },
  {
   "cell_type": "code",
   "execution_count": null,
   "metadata": {},
   "outputs": [],
   "source": [
    "content = re.sub(r'[^A-Za-z]',\" \", content)"
   ]
  },
  {
   "cell_type": "code",
   "execution_count": null,
   "metadata": {},
   "outputs": [],
   "source": [
    "content"
   ]
  },
  {
   "cell_type": "code",
   "execution_count": null,
   "metadata": {},
   "outputs": [],
   "source": [
    "content = content.lower()"
   ]
  },
  {
   "cell_type": "code",
   "execution_count": null,
   "metadata": {},
   "outputs": [],
   "source": [
    "content"
   ]
  },
  {
   "cell_type": "code",
   "execution_count": null,
   "metadata": {},
   "outputs": [],
   "source": [
    "content = content.split()"
   ]
  },
  {
   "cell_type": "code",
   "execution_count": null,
   "metadata": {},
   "outputs": [],
   "source": [
    "content = set(content)"
   ]
  },
  {
   "cell_type": "code",
   "execution_count": null,
   "metadata": {},
   "outputs": [],
   "source": [
    "content"
   ]
  },
  {
   "cell_type": "code",
   "execution_count": null,
   "metadata": {},
   "outputs": [],
   "source": [
    "with open('stop_words.txt', 'r') as stop_words :\n",
    "    \n",
    "    list_of_stop_words = stop_words.readlines()"
   ]
  },
  {
   "cell_type": "code",
   "execution_count": null,
   "metadata": {},
   "outputs": [],
   "source": [
    "for i in range(len(list_of_stop_words)) :\n",
    "    \n",
    "    list_of_stop_words[i] = list_of_stop_words[i].replace('\\n', \"\").lower()\n",
    "\n",
    "\n",
    "list_of_stop_words = list(set(list_of_stop_words))\n",
    "\n",
    "list_of_stop_words.sort()"
   ]
  },
  {
   "cell_type": "code",
   "execution_count": null,
   "metadata": {},
   "outputs": [],
   "source": [
    "#list_of_stop_words"
   ]
  },
  {
   "cell_type": "code",
   "execution_count": null,
   "metadata": {},
   "outputs": [],
   "source": [
    "def remove_stop_words(content, MODE=0):\n",
    "    \n",
    "    filtered_words = []\n",
    "    \n",
    "    if MODE == 0 :\n",
    "        \n",
    "        for i in content:\n",
    "\n",
    "            if i not in list_of_stop_words:\n",
    "\n",
    "                filtered_words.append(i)\n",
    "\n",
    "        return filtered_words\n",
    "    \n",
    "    if MODE == 1 :\n",
    "        \n",
    "        for i in content:\n",
    "\n",
    "            if i not in stop_words:\n",
    "\n",
    "                filtered_words.append(i)\n",
    "                \n",
    "        return filtered_words\n",
    "    \n",
    "    if MODE == 2 :\n",
    "        \n",
    "        for i in content:\n",
    "            \n",
    "            if i in words_to_keep:\n",
    "                \n",
    "                filtered_words.append(i)\n",
    "                \n",
    "        return filtered_words"
   ]
  },
  {
   "cell_type": "code",
   "execution_count": null,
   "metadata": {},
   "outputs": [],
   "source": [
    "new_words = remove_stop_words(content)"
   ]
  },
  {
   "cell_type": "code",
   "execution_count": null,
   "metadata": {},
   "outputs": [],
   "source": [
    "master_dict_ini = pd.read_excel('LoughranMcDonald_MasterDictionary_2018.xlsx')\n",
    "\n",
    "md = master_dict_ini.copy()\n",
    "\n",
    "#md\n",
    "\n",
    "md['Word'] = md['Word'].apply(lambda x: str(x).lower())\n",
    "\n",
    "words_to_keep = list(md['Word'])\n",
    "\n",
    "words_to_keep.sort()"
   ]
  },
  {
   "cell_type": "code",
   "execution_count": null,
   "metadata": {},
   "outputs": [],
   "source": []
  },
  {
   "cell_type": "code",
   "execution_count": null,
   "metadata": {
    "scrolled": false
   },
   "outputs": [],
   "source": [
    "#new_words = remove_stop_words(new_words, MODE=2)"
   ]
  },
  {
   "cell_type": "code",
   "execution_count": null,
   "metadata": {},
   "outputs": [],
   "source": [
    "# mad_text = \n",
    "# qqdmr_text \n",
    "# rf_text = defaultdict(int)\n",
    "\n",
    "def extract_sections(text):\n",
    "    #qqdmr\n",
    "    \n",
    "    qqdmr_text = re.findall(r'(\\sitem\\s\\d\\w?\\.\\squantitative\\sand\\squalitative\\sdisclosures\\sabout\\smarket\\srisk\\s)(.*)(item\\s\\d\\w?\\.)',text)\n",
    "    \n",
    "    if len(qqdmr_text) == 0:\n",
    "        qqdmr_text = re.findall(r'(\\sitem\\s\\d\\w?\\.\\squantitative\\sand\\squalitative\\sdisclosures\\sabout\\smarket\\srisk\\s)(.*)(-----end privacy-enhanced message-----)')\n",
    "        \n",
    "    if (qqdmr_text) == 0:\n",
    "        qqdmr_text = None\n",
    "        \n",
    "    #mda\n",
    "    \n",
    "    mda_text = re.findall(r'(\\sitem\\s\\d\\w?\\.\\smanagement\\ss\\sdiscussion\\sand\\sanalysis\\s)(.*)(item\\s\\d\\w?\\.)', text)\n",
    "    \n",
    "    if len(mda_text) == 0:\n",
    "        mda_text = re.findall(r'(\\sitem\\s\\d\\w?\\.\\smanagement\\ss\\sdiscussion\\sand\\sanalysis\\s)(.*)(-----end privacy-enhanced message-----)', text)\n",
    "        \n",
    "    if mda_text == 0:\n",
    "        mda_text = None\n",
    "        \n",
    "    #rf\n",
    "    \n",
    "    rf_text = re.findall(r'(\\sitem\\s\\d\\w?\\.\\srisk\\sfactors\\s)(.*)(item\\s\\d\\w?\\.)', text)\n",
    "    if len(rf_text) == 0:\n",
    "        rf_text = re.findall(r'(\\sitem\\s\\d\\w?\\.\\srisk\\sfactors\\s)(.*)(-----end privacy-enhanced message-----)', text)\n",
    "        \n",
    "    if len(rf_text) == 0:\n",
    "        rf_text = None\n",
    "        \n",
    "    return (mda_text[0][1], qqdmr_text[0][1], rf_text[0][1])"
   ]
  },
  {
   "cell_type": "markdown",
   "metadata": {},
   "source": [
    "(\\sitem\\s\\d\\w?\\.\\srisk\\sfactors\\s)(.*)(-----end privacy-enhanced message-----)\n",
    "\n",
    "(\\sitem\\s\\d\\w?\\.\\srisk\\sfactors\\s)(.*)(item\\s\\d\\w?\\.)\n",
    "\n",
    "(\\sitem\\s\\d\\w?\\.\\squantitative\\sand\\squalitative\\sdisclosures\\sabout\\smarket\\srisk\\s)(.*)(item\\s\\d\\w?\\.)\n",
    "\n",
    "(\\sitem\\s\\d\\w?\\.\\squantitative\\sand\\squalitative\\sdisclosures\\sabout\\smarket\\srisk\\s)(.*)(-----end privacy-enhanced message-----)\n",
    "\n",
    "(\\sitem\\s\\d\\w?\\.\\smanagement\\ss\\sdiscussion\\sand\\sanalysis\\s)(.*)(item\\s\\d\\w?\\.)\n",
    "\n",
    "(\\sitem\\s\\d\\w?\\.\\smanagement\\ss\\sdiscussion\\sand\\sanalysis\\s)(.*)(-----end privacy-enhanced message-----)"
   ]
  }
 ],
 "metadata": {
  "kernelspec": {
   "display_name": "Python 3",
   "language": "python",
   "name": "python3"
  },
  "language_info": {
   "codemirror_mode": {
    "name": "ipython",
    "version": 3
   },
   "file_extension": ".py",
   "mimetype": "text/x-python",
   "name": "python",
   "nbconvert_exporter": "python",
   "pygments_lexer": "ipython3",
   "version": "3.7.3"
  }
 },
 "nbformat": 4,
 "nbformat_minor": 4
}
